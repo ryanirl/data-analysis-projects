{
 "cells": [
  {
   "cell_type": "markdown",
   "id": "grateful-villa",
   "metadata": {},
   "source": [
    "# Classification of Jugular Paragangliomas\n",
    "\n",
    "---\n",
    "\n",
    "\n"
   ]
  },
  {
   "cell_type": "markdown",
   "id": "intimate-retention",
   "metadata": {},
   "source": [
    "## Table of Contents\n",
    "\n",
    "1. About Paragangliomas:\n",
    "    - History of Jugular Paragangliomas\n",
    "    - Current Treatment of Jugular Paragangliomas\n",
    "    - Presentation in Imaging\n",
    "    - Current Research\n",
    "\n",
    "\n",
    "2. Outline for Classification Model (localization?)\n",
    "3. The Model:\n",
    "    - Building\n",
    "    - Training\n",
    "    - Tuning\n",
    "\n",
    "\n",
    "4. Summary\n",
    "\n",
    "\n"
   ]
  },
  {
   "cell_type": "markdown",
   "id": "described-caution",
   "metadata": {},
   "source": [
    "## About Jugular Paragangliomas\n",
    "\n",
    "\n",
    "---\n",
    "\n"
   ]
  },
  {
   "cell_type": "markdown",
   "id": "second-novelty",
   "metadata": {},
   "source": [
    "\n",
    "\n",
    "### History of Jugular Paragangliomas:\n",
    "\n",
    "\n"
   ]
  },
  {
   "cell_type": "markdown",
   "id": "disabled-bahrain",
   "metadata": {},
   "source": [
    "\n",
    "\n",
    "### Current Treatment of Jugular Paragangliomas:\n",
    "\n"
   ]
  },
  {
   "cell_type": "markdown",
   "id": "cordless-prayer",
   "metadata": {},
   "source": [
    "\n",
    "\n",
    "### Presentation in Imaging:\n",
    "\n"
   ]
  },
  {
   "cell_type": "markdown",
   "id": "opponent-thanks",
   "metadata": {},
   "source": [
    "\n",
    "\n",
    "### Current Research:\n",
    "\n"
   ]
  },
  {
   "cell_type": "markdown",
   "id": "authentic-trustee",
   "metadata": {},
   "source": [
    "\n",
    "\n",
    "## Outline for Classification Model (localization?)\n",
    "\n",
    "---\n",
    "\n"
   ]
  },
  {
   "cell_type": "markdown",
   "id": "vocational-appeal",
   "metadata": {},
   "source": [
    "\n",
    "\n",
    "## The Model\n",
    "\n",
    "---\n",
    "\n",
    "1. Building\n",
    "2. Training\n",
    "3. Tuning\n",
    "\n",
    "\n"
   ]
  },
  {
   "cell_type": "markdown",
   "id": "palestinian-system",
   "metadata": {},
   "source": [
    "\n",
    "\n",
    "## Summary\n",
    "\n",
    "---\n",
    "\n",
    "\n"
   ]
  },
  {
   "cell_type": "markdown",
   "id": "collectible-claim",
   "metadata": {},
   "source": [
    "Citations\n",
    "\n",
    "1. Alqudah, Ali & Alquran, Hiam & Abuqasmieh, Isam & Alqudah, Amin & Sharo, Wafaa. (2020). Brain Tumor Classification Using Deep Learning Technique - A Comparison between Cropped, Uncropped, and Segmented Lesion Images with Different Sizes. International Journal of Advanced Trends in Computer Science and Engineering. 8. 3684 - 3691. 10.30534/ijatcse/2019/155862019. \n",
    "\n",
    "2. Díaz-Pernas, F. J., Martínez-Zarzuela, M., Antón-Rodríguez, M., & González-Ortega, D. (2021). A Deep Learning Approach for Brain Tumor Classification and Segmentation Using a Multiscale Convolutional Neural Network. Healthcare (Basel, Switzerland), 9(2), 153. https://doi.org/10.3390/healthcare9020153\n",
    "\n",
    "3. Wanna, G. B., Sweeney, A. D., Haynes, D. S., & Carlson, M. L. (2015). Contemporary management of jugular paragangliomas. Otolaryngologic clinics of North America, 48(2), 331–341. https://doi.org/10.1016/j.otc.2014.12.007\n",
    "\n",
    "4. Wallace, P. W., Conrad, C., Brückmann, S., Pang, Y., Caleiras, E., Murakami, M., Korpershoek, E., Zhuang, Z., Rapizzi, E., Kroiss, M., Gudziol, V., Timmers, H. J., Mannelli, M., Pietzsch, J., Beuschlein, F., Pacak, K., Robledo, M., Klink, B., Peitzsch, M., Gill, A. J., … Richter, S. (2020). Metabolomics, machine learning and immunohistochemistry to predict succinate dehydrogenase mutational status in phaeochromocytomas and paragangliomas. The Journal of pathology, 251(4), 378–387. https://doi.org/10.1002/path.5472\n",
    "\n",
    "\n"
   ]
  },
  {
   "cell_type": "code",
   "execution_count": null,
   "id": "brown-fence",
   "metadata": {},
   "outputs": [],
   "source": []
  }
 ],
 "metadata": {
  "kernelspec": {
   "display_name": "Python 3",
   "language": "python",
   "name": "python3"
  },
  "language_info": {
   "codemirror_mode": {
    "name": "ipython",
    "version": 3
   },
   "file_extension": ".py",
   "mimetype": "text/x-python",
   "name": "python",
   "nbconvert_exporter": "python",
   "pygments_lexer": "ipython3",
   "version": "3.9.6"
  }
 },
 "nbformat": 4,
 "nbformat_minor": 5
}
