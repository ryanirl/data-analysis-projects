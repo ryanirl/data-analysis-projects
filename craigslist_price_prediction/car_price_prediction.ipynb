{
 "cells": [
  {
   "cell_type": "markdown",
   "id": "adjacent-prediction",
   "metadata": {
    "tags": []
   },
   "source": [
    "# Car EDA & Price Prediction\n",
    "\n",
    "---\n",
    "\n",
    "## Table of Contents\n",
    "1. Goal of this Project\n",
    "2. Data Gathering\n",
    "3. Checking the Data\n",
    "4. Cleaning the Data\n",
    "5. Exploratory Data Analysis (EDA)\n",
    "6. Feature Engineering \n",
    "7. Normalization\n",
    "8. Regression\n",
    "    - Cross Validation\n",
    "    - Hyperparameter Tuning\n",
    "\n",
    "\n",
    "9. Conclusion\n",
    "\n",
    "\n",
    "#### NOTE: FIND WAY TO LINK TABLE OF CONTENTS\n",
    "\n",
    "---\n",
    "\n",
    "</br>\n",
    "\n"
   ]
  },
  {
   "cell_type": "markdown",
   "id": "beginning-japan",
   "metadata": {},
   "source": [
    "## 1. Goal of this Project\n",
    "\n",
    "---\n",
    "\n",
    "The main goal of this project is to gain an understanding of trends in car data. Then from these trends, train a model to predict prices of car given certain key features. \n",
    "\n",
    "Before we start, we must first import that data and read it into a Pandas DataFrame.\n",
    "\n"
   ]
  },
  {
   "cell_type": "markdown",
   "id": "assumed-force",
   "metadata": {},
   "source": [
    "\n",
    "\n",
    "## 2. Data Gathering\n",
    "\n",
    "---\n",
    "\n",
    "My original plan for this project was to use data collected from one of my previous projects (https://github.com/ryanirl/CraigslistScraper) but rather than spending weeks gathering a large dataset (100k+ entries) I found this dataset (https://www.kaggle.com/austinreese/craigslist-carstrucks-data) on kaggle which has already scrapped some 400k+ entries of data.\n",
    "\n"
   ]
  },
  {
   "cell_type": "code",
   "execution_count": 1,
   "id": "greenhouse-avatar",
   "metadata": {},
   "outputs": [],
   "source": [
    "# Imports\n",
    "import numpy as np\n",
    "import pandas as pd\n",
    "import seaborn as sb\n",
    "import matplotlib.pyplot as plt\n",
    "import sklearn\n",
    "from scipy import stats\n",
    "from sklearn.ensemble import RandomForestRegressor\n",
    "from sklearn.model_selection import train_test_split\n",
    "from pandas_profiling import ProfileReport\n",
    "\n",
    "%matplotlib inline"
   ]
  },
  {
   "cell_type": "code",
   "execution_count": 2,
   "id": "executive-lambda",
   "metadata": {},
   "outputs": [],
   "source": [
    "# Reading in the Data\n",
    "df = pd.read_csv('vehicles.csv')"
   ]
  },
  {
   "cell_type": "code",
   "execution_count": 3,
   "id": "hungarian-raising",
   "metadata": {},
   "outputs": [
    {
     "name": "stdout",
     "output_type": "stream",
     "text": [
      "<class 'pandas.core.frame.DataFrame'>\n",
      "RangeIndex: 426880 entries, 0 to 426879\n",
      "Data columns (total 26 columns):\n",
      " #   Column        Non-Null Count   Dtype  \n",
      "---  ------        --------------   -----  \n",
      " 0   id            426880 non-null  int64  \n",
      " 1   url           426880 non-null  object \n",
      " 2   region        426880 non-null  object \n",
      " 3   region_url    426880 non-null  object \n",
      " 4   price         426880 non-null  int64  \n",
      " 5   year          425675 non-null  float64\n",
      " 6   manufacturer  409234 non-null  object \n",
      " 7   model         421603 non-null  object \n",
      " 8   condition     252776 non-null  object \n",
      " 9   cylinders     249202 non-null  object \n",
      " 10  fuel          423867 non-null  object \n",
      " 11  odometer      422480 non-null  float64\n",
      " 12  title_status  418638 non-null  object \n",
      " 13  transmission  424324 non-null  object \n",
      " 14  VIN           265838 non-null  object \n",
      " 15  drive         296313 non-null  object \n",
      " 16  size          120519 non-null  object \n",
      " 17  type          334022 non-null  object \n",
      " 18  paint_color   296677 non-null  object \n",
      " 19  image_url     426812 non-null  object \n",
      " 20  description   426810 non-null  object \n",
      " 21  county        0 non-null       float64\n",
      " 22  state         426880 non-null  object \n",
      " 23  lat           420331 non-null  float64\n",
      " 24  long          420331 non-null  float64\n",
      " 25  posting_date  426812 non-null  object \n",
      "dtypes: float64(5), int64(2), object(19)\n",
      "memory usage: 84.7+ MB\n"
     ]
    }
   ],
   "source": [
    "df.info()"
   ]
  },
  {
   "cell_type": "markdown",
   "id": "reliable-advance",
   "metadata": {},
   "source": [
    "</br>\n",
    "\n",
    "## 2. Checking the Data\n",
    "\n",
    "---\n",
    "\n",
    "### Important features of the Dataset:\n",
    "\n",
    "1. Price\n",
    "2. Year\n",
    "3. Manufacturer\n",
    "4. Model\n",
    "5. Condition\n",
    "6. Cylinders\n",
    "7. Size\n",
    "8. Type\n",
    "9. Paint Color\n",
    "10. Odometer\n",
    "11. Title Status\n",
    "12. Transmission\n",
    "13. Drive\n",
    "14. Fuel\n",
    "\n",
    "All other features will be irrelevent in the grand scheme of things. Also, because we are given Manufacturer I am going to remove Model because working with this feature is too subjective to human input error. I am also going to remove Paint Color because I don't believe this is too important, again in the grand scheme of things. This leaves us with 12 Key Features.\n",
    "\n",
    "Before we start checking the data I am first going to remove any features that aren't part of our 12 key features list.\n",
    "\n"
   ]
  },
  {
   "cell_type": "code",
   "execution_count": 4,
   "id": "moral-prisoner",
   "metadata": {},
   "outputs": [],
   "source": [
    "# NOTE: Is keeping ID a good idea?\n",
    "bad_features = ['posting_date', 'state', 'county', 'image_url', 'region_url', 'paint_color', 'region_url', 'description',\n",
    "                'id', 'url', 'model', 'region', 'VIN', 'long', 'lat']\n",
    "\n",
    "df.drop(bad_features, inplace=True, axis=1)\n",
    "\n",
    "# Removing any cars that don't have price between 500 < x < 80000\n",
    "df = df[df['price'] > 500]\n",
    "df = df[df['price'] < 80000]\n",
    "\n",
    "# Removing any cars that don't have odometer between 500 < x < 300000\n",
    "df = df[df['odometer'] < 300000]\n",
    "df = df[df['odometer'] > 500]\n",
    "\n",
    "df = df[df['year'] < 2020]\n",
    "df = df[df['year'] > 2000]"
   ]
  },
  {
   "cell_type": "code",
   "execution_count": null,
   "id": "unique-ground",
   "metadata": {},
   "outputs": [],
   "source": [
    "df.describe()"
   ]
  },
  {
   "cell_type": "code",
   "execution_count": null,
   "id": "historical-minutes",
   "metadata": {},
   "outputs": [],
   "source": [
    "x = df[['year', 'odometer', 'price']]\n",
    "x_sample = x.dropna().sample(10000)"
   ]
  },
  {
   "cell_type": "code",
   "execution_count": null,
   "id": "married-australia",
   "metadata": {},
   "outputs": [],
   "source": [
    "sb.pairplot(x_sample, hue=None)"
   ]
  },
  {
   "cell_type": "markdown",
   "id": "animated-lambda",
   "metadata": {},
   "source": [
    "### Outliers\n",
    "\n",
    "We can see that ouliers are damaging our dataset so lets remove them."
   ]
  },
  {
   "cell_type": "code",
   "execution_count": null,
   "id": "excessive-albany",
   "metadata": {},
   "outputs": [],
   "source": [
    "z_sample = np.abs(stats.zscore(x_sample))\n",
    "removed_outliers =  x_sample[(z_sample < 3).all(axis=1)]\n",
    "\n",
    "# sb.boxplot(x=x_sample['odometer'])"
   ]
  },
  {
   "cell_type": "code",
   "execution_count": null,
   "id": "emotional-blast",
   "metadata": {},
   "outputs": [],
   "source": [
    "sb.pairplot(removed_outliers, hue=None)"
   ]
  },
  {
   "cell_type": "code",
   "execution_count": null,
   "id": "composite-consensus",
   "metadata": {},
   "outputs": [],
   "source": [
    "# Now applying this fix to our whole dataset rather than just the sample set.\n",
    "#z = np.abs(stats.zscore(df))\n",
    "#df = df[(z < 3).all(axis=1)]"
   ]
  },
  {
   "cell_type": "code",
   "execution_count": null,
   "id": "accepting-edinburgh",
   "metadata": {},
   "outputs": [],
   "source": []
  },
  {
   "cell_type": "markdown",
   "id": "double-islam",
   "metadata": {
    "tags": []
   },
   "source": [
    "</br>\n",
    "\n",
    "## Feature Engineering\n",
    "\n",
    "---\n",
    "\n",
    "We have 4 features that we need to find some way to represent numerically. Already I can see that because we have a relatively large dataset one-hot encoding will likely be the best for the \"manufacturer\" feature. The rest, that being \"condition\", \"cylinders\", \"fuel\", \"title-status\", \"transmission\", \"drive\", \"size\", and \"type\".\n",
    "\n",
    "\n",
    "NOTE: Check correlation between price / year / and transmission (manual / auto) using bar graph\n",
    "\n",
    "\n",
    "Because of the \"nominal\" nature of the manufacturer feature and the amount of data we have acess to I feel as if one-hot encoding will work the best for encoding the manufacturer feature. Most of the other categorical data we have is ordinal in nature and has some underlying structure that we should be able to pull out and represent properly without relying on dimension-heavy one-hot encoding.\n"
   ]
  },
  {
   "cell_type": "code",
   "execution_count": 5,
   "id": "objective-scope",
   "metadata": {},
   "outputs": [],
   "source": [
    "x_1 = df[['year', 'transmission', 'price', 'fuel', 'title_status', 'type', 'drive', 'manufacturer']]\n",
    "x_sample_1 = x_1.dropna().sample(5000)\n",
    "\n",
    "filtered_year = x_sample_1[x_sample_1['year'] > 2010] \n",
    "filtered_year = filtered_year[filtered_year['year'] < 2020] \n",
    "filtered_year = filtered_year[filtered_year['price'] < 60000] \n",
    "\n",
    "type_data = filtered_year[filtered_year['year'] < 2013] "
   ]
  },
  {
   "cell_type": "code",
   "execution_count": null,
   "id": "adjacent-assets",
   "metadata": {},
   "outputs": [],
   "source": [
    "# TEMP DELETE IN A SEC\n",
    "import category_encoders as ce\n",
    "temp_y = x_1['price']\n",
    "enc = ce.TargetEncoder(cols=['transmission']).fit(x_1, temp_y)\n",
    "numeric_dataset = enc.transform(x_1)\n",
    "numeric_dataset"
   ]
  },
  {
   "cell_type": "code",
   "execution_count": 6,
   "id": "inner-translator",
   "metadata": {},
   "outputs": [
    {
     "data": {
      "text/plain": [
       "<seaborn.axisgrid.FacetGrid at 0x16c2bd9d0>"
      ]
     },
     "execution_count": 6,
     "metadata": {},
     "output_type": "execute_result"
    },
    {
     "data": {
      "image/png": "[encoded data removed]",
      "text/plain": [
       "<Figure size 1166.38x360 with 1 Axes>"
      ]
     },
     "metadata": {
      "needs_background": "light"
     },
     "output_type": "display_data"
    }
   ],
   "source": [
    "# sb.histplot(data=filtered_year, x=\"year\", hue=\"transmission\", multiple=\"dodge\", shrink=2)\n",
    "\n",
    "sb.catplot(x=\"year\", y=\"price\", hue=\"transmission\", kind=\"box\", data=filtered_year, height=5, aspect=3)"
   ]
  },
  {
   "cell_type": "code",
   "execution_count": null,
   "id": "excited-photography",
   "metadata": {},
   "outputs": [],
   "source": [
    "sb.catplot(x=\"year\", y=\"price\", hue=\"fuel\", kind=\"box\", data=filtered_year, height=5, aspect=3)"
   ]
  },
  {
   "cell_type": "code",
   "execution_count": null,
   "id": "first-integrity",
   "metadata": {},
   "outputs": [],
   "source": [
    "sb.catplot(x=\"year\", y=\"price\", hue=\"title_status\", kind=\"box\", data=filtered_year, height=5, aspect=3)"
   ]
  },
  {
   "cell_type": "code",
   "execution_count": null,
   "id": "better-marketplace",
   "metadata": {},
   "outputs": [],
   "source": [
    "sb.catplot(x=\"year\", y=\"price\", hue=\"type\", kind=\"box\", data=type_data, height=5, aspect=3)"
   ]
  },
  {
   "cell_type": "code",
   "execution_count": null,
   "id": "immediate-hotel",
   "metadata": {},
   "outputs": [],
   "source": [
    "sb.catplot(x=\"year\", y=\"price\", hue=\"drive\", kind=\"box\", data=filtered_year, height=5, aspect=3)"
   ]
  },
  {
   "cell_type": "code",
   "execution_count": null,
   "id": "processed-courtesy",
   "metadata": {},
   "outputs": [],
   "source": [
    "# sb.catplot(x=\"price\", y=\"manufacturer\", hue=\"manufacturer\", kind=\"box\", data=type_data, height=10, aspect=2, notch=True)\n",
    "fig = plt.figure(figsize=(13,18))\n",
    "ax = fig.gca()\n",
    "sb.boxplot(x = 'price', y = 'manufacturer', data = filtered_year)"
   ]
  },
  {
   "cell_type": "code",
   "execution_count": null,
   "id": "bulgarian-launch",
   "metadata": {},
   "outputs": [],
   "source": [
    "df[\"cylinders\"].replace({\"12 cylinders\": \"12\", \"10 cylinders\": \"10\", \"8 cylinders\": \"8\", \"6 cylinders\": \"6\", \n",
    "                         \"5 cylinders\": \"5\", \"4 cylinders\": \"4\", \"3 cylinders\": \"3\", \"other\": \"0\"}, inplace=True)\n",
    "\n",
    "df[\"condition\"].replace({\"new\": \"10\", \"like new\": \"8\", \"excellent\": \"6\", \"good\": \"4\", \"fair\": \"2\", \n",
    "                         \"salvage\": \"-5\", \"parts only\": \"-10\"}, inplace=True)\n",
    "\n",
    "df[\"fuel\"].replace({\"diesel\": \"10\", \"other\": \"5\", \"gas\": \"5\", \"hybrid\": \"1\", \"electric\": \"7\"}, inplace=True)\n",
    "\n",
    "df[\"title_status\"].replace({\"clean\": \"9\", \"rebuilt\": \"5\", \"lien\": \"10\", \"salvage\": \"2\", \"missing\": \"0\",\n",
    "                            \"parts only\": \"1\"}, inplace=True)\n",
    "\n",
    "df[\"transmission\"].replace({\"automatic\": \"10\", \"other\": \"8\", \"manual\": \"6\"}, inplace=True)\n",
    "\n",
    "df[\"type\"].replace({\"pickup\": \"0.75\", \"sedan\": \"0.5\", \"truck\": \"0.75\", \"other\": \"0\", \"hybrid\": \"0.5\", \n",
    "                    \"electric\": \"1\", \"parts only\": \"-3\", \"coupe\": \"1\", \"mini-van\": \"0.8\", \"SUV\": \"0.8\", \n",
    "                    \"hatchback\": \"0.3\", \"offroad\": \"0.5\", \"van\": \"0.7\", \"convertible\": \"0.8\", \"wagon\": \"0.5\", \n",
    "                    \"bus\": \"1\"}, inplace=True)\n",
    "\n",
    "df[\"drive\"].replace({\"rwd\": \"8\", \"4wd\": \"10\", \"fwd\": \"4\"}, inplace=True)\n",
    "\n",
    "df.drop('size', inplace=True, axis=1)\n",
    "\n",
    "df.fillna(\"0\", inplace=True)\n",
    "\n",
    "# RECONSIDER THIS FOR MORE DATA\n",
    "df.dropna(subset = [\"odometer\", \"condition\", \"cylinders\"], inplace=True)\n",
    "# --------------\n",
    "\n",
    "# One-Hot encoding the manufacturers\n",
    "y = pd.get_dummies(df.manufacturer, prefix='man')\n",
    "\n",
    "df.drop('manufacturer', inplace=True, axis=1)\n",
    "\n",
    "df = pd.concat([df, y], axis=1)"
   ]
  },
  {
   "cell_type": "markdown",
   "id": "static-mitchell",
   "metadata": {},
   "source": [
    "\n",
    "\n",
    "\n",
    "## Normalizing the Data\n",
    "\n",
    "---"
   ]
  },
  {
   "cell_type": "code",
   "execution_count": null,
   "id": "british-headset",
   "metadata": {},
   "outputs": [],
   "source": [
    "# year_zscore = stats.zscore(df['year'])\n",
    "# odometer_zscore = stats.zscore(df['odometer'])\n",
    "\n",
    "# df['year_zscore'] = year_zscore\n",
    "# df['odometer_zscore'] = odometer_zscore\n",
    "\n",
    "# df.drop('year', inplace = True, axis = 1)\n",
    "# df.drop('odometer', inplace = True, axis = 1)"
   ]
  },
  {
   "cell_type": "markdown",
   "id": "bottom-document",
   "metadata": {},
   "source": [
    "</br>\n",
    "\n",
    "## Regression\n",
    "\n",
    "---\n",
    "\n",
    "#### Models to Test:\n",
    "1. Random Forest\n",
    "2. Logistic Regression\n",
    "3. K-Nearest Regressor\n",
    "4. XGBoost"
   ]
  },
  {
   "cell_type": "markdown",
   "id": "outstanding-sullivan",
   "metadata": {},
   "source": [
    "### 1. Random Forest\n",
    "\n"
   ]
  },
  {
   "cell_type": "code",
   "execution_count": null,
   "id": "included-firewall",
   "metadata": {},
   "outputs": [],
   "source": [
    "Y = df['price']\n",
    "\n",
    "df.drop('price', inplace=True, axis=1)"
   ]
  },
  {
   "cell_type": "code",
   "execution_count": null,
   "id": "integrated-disco",
   "metadata": {},
   "outputs": [],
   "source": [
    "# NEED TO COLLECT SOME ADDITIONAL INFORMATION FOR TESTING\n",
    "\n",
    "X_train, X_test, y_train, y_test = train_test_split(df, Y, train_size=0.999, test_size=0.001, random_state=42)\n",
    "\n",
    "RFR_model = RandomForestRegressor(bootstrap=True, max_features=0.75, min_samples_leaf=2, min_samples_split=6, n_estimators=100, random_state = 42)\n",
    "# RFR_model = RandomForestRegressor(bootstrap=True, max_features=0.15000000000000002, min_samples_leaf=2, min_samples_split=19, n_estimators=100)\n",
    "\n",
    "RFR_model.fit(X_train, y_train)\n",
    "\n",
    "results = RFR_model.predict(X_test)"
   ]
  },
  {
   "cell_type": "code",
   "execution_count": null,
   "id": "large-juice",
   "metadata": {},
   "outputs": [],
   "source": [
    "# results = RFR_model.predict(X_test)\n",
    "\n",
    "test = y_test.to_numpy()\n",
    "\n",
    "print(sklearn.metrics.mean_squared_error(test, results, sample_weight=None, multioutput='uniform_average', squared=False))\n",
    "print(sklearn.metrics.mean_absolute_error(test, results, sample_weight=None, multioutput='uniform_average'))\n",
    "print(sklearn.metrics.r2_score(test, results, sample_weight=None, multioutput='uniform_average'))"
   ]
  },
  {
   "cell_type": "code",
   "execution_count": null,
   "id": "generic-conservation",
   "metadata": {},
   "outputs": [],
   "source": [
    "df"
   ]
  },
  {
   "cell_type": "code",
   "execution_count": null,
   "id": "civic-ecology",
   "metadata": {},
   "outputs": [],
   "source": [
    "y_test.to_numpy()"
   ]
  },
  {
   "cell_type": "code",
   "execution_count": null,
   "id": "dying-pharmacology",
   "metadata": {},
   "outputs": [],
   "source": [
    "results"
   ]
  },
  {
   "cell_type": "code",
   "execution_count": null,
   "id": "subject-seeking",
   "metadata": {},
   "outputs": [],
   "source": [
    "from sklearn.model_selection import train_test_split\n",
    "\n",
    "from tpot import TPOTClassifier, TPOTRegressor\n",
    "\n",
    "tpot = TPOTRegressor(generations=2, population_size=50, verbosity=2, random_state=42)\n",
    "\n",
    "df = df.sample(10000)\n",
    "\n",
    "Y = df['price']\n",
    "df.drop('price', inplace=True, axis=1)\n",
    "\n",
    "X_train, X_test, y_train, y_test = train_test_split(df, Y, train_size=0.999, test_size=0.001, random_state=42)\n",
    "\n",
    "tpot.fit(X_train, y_train)"
   ]
  },
  {
   "cell_type": "code",
   "execution_count": null,
   "id": "promising-butterfly",
   "metadata": {},
   "outputs": [],
   "source": [
    "tpot.export('temp.py')"
   ]
  },
  {
   "cell_type": "code",
   "execution_count": null,
   "id": "athletic-carnival",
   "metadata": {},
   "outputs": [],
   "source": []
  }
 ],
 "metadata": {
  "kernelspec": {
   "display_name": "Python 3",
   "language": "python",
   "name": "python3"
  },
  "language_info": {
   "codemirror_mode": {
    "name": "ipython",
    "version": 3
   },
   "file_extension": ".py",
   "mimetype": "text/x-python",
   "name": "python",
   "nbconvert_exporter": "python",
   "pygments_lexer": "ipython3",
   "version": "3.9.2"
  }
 },
 "nbformat": 4,
 "nbformat_minor": 5
}
