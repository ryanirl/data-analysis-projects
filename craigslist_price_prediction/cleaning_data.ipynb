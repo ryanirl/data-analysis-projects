{
 "cells": [
  {
   "cell_type": "markdown",
   "id": "charitable-theme",
   "metadata": {
    "tags": []
   },
   "source": [
    "# PART 1: Car Data Cleaning\n",
    "\n",
    "---\n",
    "\n",
    "## Table of Contents\n",
    "1. Data Gathering\n",
    "2. Cleaning the Data & Dealing with Outliers\n",
    "3. Exploratory Data Analysis (EDA)\n",
    "4. Feature Engineering & Visualizing Relationships\n",
    "5. Normalization?\n",
    "\n",
    "**++++++++\n",
    "I want to try one more encoding scheme then start putting together the final products.\n",
    "++++++++**\n",
    "\n",
    "CHECK OUT DISTRIBUTION OF DATA\n",
    "\n",
    "RELAION BETWEEN EVERYTHING\n",
    "\n",
    "**CONSIDER ADDING BACK MODEL**\n",
    "\n",
    "\n",
    "\n",
    "#### NOTE: FIND WAY TO LINK TABLE OF CONTENTS\n",
    "\n",
    "---\n",
    "\n",
    "<br />\n",
    "\n"
   ]
  },
  {
   "cell_type": "markdown",
   "id": "cosmetic-voluntary",
   "metadata": {},
   "source": [
    "\n",
    "\n",
    "## 1. Data Gathering\n",
    "\n",
    "---\n",
    "\n",
    "My original plan for this project was to use data collected from one of my previous projects (https://github.com/ryanirl/CraigslistScraper) but rather than spending weeks gathering a large dataset (100k+ entries) I found this dataset (https://www.kaggle.com/austinreese/craigslist-carstrucks-data) on kaggle which has already scrapped some 400k+ entries of data. Huge thanks to the person who has been compiling this data for this amount of time. If you are following along on your own I would highly recommend downloading this dataset from kaggle as it's to large to throw on GitHub, though I will most likely have my cleaned data posted to github in a zip file.\n",
    "\n"
   ]
  },
  {
   "cell_type": "code",
   "execution_count": 1,
   "id": "forced-comment",
   "metadata": {},
   "outputs": [],
   "source": [
    "# Imports\n",
    "import numpy as np\n",
    "import pandas as pd\n",
    "import seaborn as sb\n",
    "import matplotlib.pyplot as plt\n",
    "import sklearn\n",
    "from scipy import stats\n",
    "\n",
    "# REMOVE BEFORE UPLOAD -----\n",
    "from sklearn.ensemble import RandomForestRegressor\n",
    "from sklearn.model_selection import train_test_split\n",
    "from pandas_profiling import ProfileReport\n",
    "# --------------------------\n",
    "\n",
    "import category_encoders as ce\n",
    "from sklearn.model_selection import train_test_split\n",
    "import sklearn\n",
    "\n",
    "# I think I can minimize this down a bit during pipeline\n",
    "from sklearn.neighbors import KNeighborsRegressor\n",
    "\n",
    "%matplotlib inline"
   ]
  },
  {
   "cell_type": "code",
   "execution_count": 2,
   "id": "looking-banner",
   "metadata": {},
   "outputs": [
    {
     "name": "stdout",
     "output_type": "stream",
     "text": [
      "<class 'pandas.core.frame.DataFrame'>\n",
      "RangeIndex: 426880 entries, 0 to 426879\n",
      "Data columns (total 26 columns):\n",
      " #   Column        Non-Null Count   Dtype  \n",
      "---  ------        --------------   -----  \n",
      " 0   id            426880 non-null  int64  \n",
      " 1   url           426880 non-null  object \n",
      " 2   region        426880 non-null  object \n",
      " 3   region_url    426880 non-null  object \n",
      " 4   price         426880 non-null  int64  \n",
      " 5   year          425675 non-null  float64\n",
      " 6   manufacturer  409234 non-null  object \n",
      " 7   model         421603 non-null  object \n",
      " 8   condition     252776 non-null  object \n",
      " 9   cylinders     249202 non-null  object \n",
      " 10  fuel          423867 non-null  object \n",
      " 11  odometer      422480 non-null  float64\n",
      " 12  title_status  418638 non-null  object \n",
      " 13  transmission  424324 non-null  object \n",
      " 14  VIN           265838 non-null  object \n",
      " 15  drive         296313 non-null  object \n",
      " 16  size          120519 non-null  object \n",
      " 17  type          334022 non-null  object \n",
      " 18  paint_color   296677 non-null  object \n",
      " 19  image_url     426812 non-null  object \n",
      " 20  description   426810 non-null  object \n",
      " 21  county        0 non-null       float64\n",
      " 22  state         426880 non-null  object \n",
      " 23  lat           420331 non-null  float64\n",
      " 24  long          420331 non-null  float64\n",
      " 25  posting_date  426812 non-null  object \n",
      "dtypes: float64(5), int64(2), object(19)\n",
      "memory usage: 84.7+ MB\n"
     ]
    }
   ],
   "source": [
    "# Reading in the Data\n",
    "df = pd.read_csv('vehicles.csv')\n",
    "\n",
    "df.info()"
   ]
  },
  {
   "cell_type": "markdown",
   "id": "simplified-student",
   "metadata": {},
   "source": [
    "<br />\n",
    "\n",
    "## Understanding the Features\n",
    "\n",
    "---\n",
    "\n",
    "Counting the number of times certain words appear in each feature we come up with the following:\n",
    "\n"
   ]
  },
  {
   "cell_type": "markdown",
   "id": "governing-person",
   "metadata": {},
   "source": [
    "<img src=\"features.png\" alt=\"feature_analysing\"/>"
   ]
  },
  {
   "cell_type": "markdown",
   "id": "hungarian-magic",
   "metadata": {},
   "source": [
    "### Analysing These Values.\n",
    "\n",
    "---\n",
    "\n",
    "One key theme that I am going to repeat through this process is the idea that we want CAR data. Not motorcycle or bus data.\n",
    "\n",
    "**Manufacturer:** Instantly we can see that we need to remove harley-davidson because it is a motorcylce brand. On top of that I am also going to remove morgan and datsun simply because I am unaware of these brands and there value count is small.\n",
    "\n",
    "### FIX THIS IT DOES NOT REPRESENT WHAT I DID IN REALITY\n",
    "\n",
    "**Title Status:** I am going to remove \"missing\", \"salvage\", and \"parts-only\" features. \n",
    "    - \"Missing\" title status would leave to ownership not being passed on to the next buyer and so I am not interested in cars that classify with \"missing\" title status. I am removing\n",
    "    - \"Salvage\" because the car has been extremely damaged and I am not interested.\n",
    "    - \"Parts Only\" because they sellers are selling parts and not a car. Therefore I am not interested.\n",
    "    \n",
    "**Type**: Becuase we are only looking for car data, I am going to remove \"other\", \"offroad\", and \"bus\" types.\n",
    "\n",
    "### MAYBE CHANGE THIS TOO\n",
    "\n",
    "**Model:** Because I am trying to keep the data consitance I am going to remove any models with less than 5 occurances.\n",
    "\n",
    "**Condition:** For the same reasoning as \"Title Status\" I am going to remove any \"salvage\" cars.\n",
    "\n",
    "**Cylinders:** For consistancy I am going to remove any cylinders that classify as \"other\""
   ]
  },
  {
   "cell_type": "code",
   "execution_count": 3,
   "id": "experienced-revolution",
   "metadata": {},
   "outputs": [
    {
     "data": {
      "text/plain": [
       "389922"
      ]
     },
     "execution_count": 3,
     "metadata": {},
     "output_type": "execute_result"
    }
   ],
   "source": [
    "# LOOKING FOR OUTLIERS - EXPLAIN HOW I DID THIS\n",
    "\n",
    "df = df[~df['title_status'].isin(['salvage', 'parts only', 'missing', 'lien', 'rebuilt'])]\n",
    "df = df[~df['type'].isin(['other', 'offroad', 'bus'])]\n",
    "df = df[~df['condition'].isin(['salvage'])]\n",
    "df = df[~df['manufacturer'].isin(['morgan', 'datsun', 'harley-davidson'])]\n",
    "\n",
    "# df['model'].value_counts()\n",
    "\n",
    "counts = df['model'].value_counts()\n",
    "\n",
    "temp = df[~df['model'].isin(counts[counts < 5].index)]\n",
    "\n",
    "len(df.index)"
   ]
  },
  {
   "cell_type": "markdown",
   "id": "acknowledged-messenger",
   "metadata": {},
   "source": [
    "<br />\n",
    "\n",
    "## 2. Cleaning the Data & Dealing with Outliers\n",
    "\n",
    "---\n",
    "\n",
    "Of the 25 features included in the dataset we are only interested in features with strong correlation to price. It's easy to see that - **posting_date, county, image_url, region_url, region_url, description, id, url, region, VIN, long, and lat** - won't have a strong correlation to the price and can therefore be removed.\n",
    "\n",
    "In addition, because we are given Manufacturer I am going to remove Model because working with this feature is too unconsistant and subjective to human input error (EX: GIVE EX). If we had millions of entries of data and if this data wasn't collected on craigslist then this would be an indispensible feature but because \"Model\" is an open field entry in craigslst then this feature would only confuse our model **ELEBORATE ON THIS WITH A PICTURE OF THE FIELD TOO**. This leaves us with 14 Key Features.\n",
    "\n",
    "\n",
    "### Important Features of the Dataset:\n",
    "\n",
    "**Numeric Features:**\n",
    "- Price           \n",
    "- Year  \n",
    "- Odometer\n",
    "\n",
    "\n",
    "\n",
    "**Categorical Features:**\n",
    "\n",
    "THIS SPREAD MAY BE WRONG - FIX IT.\n",
    "\n",
    "Nominal:\n",
    "- Manufacturer \n",
    "- Type \n",
    "- Paint Color\n",
    "- Transmission\n",
    "- Drive\n",
    "- Fuel\n",
    "- State\n",
    "\n",
    "Ordinal:\n",
    "- Condition                         \n",
    "- Cylinders           \n",
    "- Size               \n",
    "- Title Status ( Ordinal for example because \"salvage_title\" < \"clear\" )\n",
    "\n",
    "\n",
    "---\n",
    "\n"
   ]
  },
  {
   "cell_type": "code",
   "execution_count": 4,
   "id": "yellow-opening",
   "metadata": {},
   "outputs": [],
   "source": [
    "# List of \"Bad Features\" whos values aren't correlated with price. \n",
    "\n",
    "# add back model\n",
    "bad_features = ['posting_date', 'county', 'image_url', 'region_url', 'region_url', 'description',\n",
    "                'id', 'url', 'region', 'VIN', 'long', 'lat']\n",
    "\n",
    "# Remeving these bad features from out Dataset.\n",
    "df.drop(bad_features, inplace=True, axis=1)\n"
   ]
  },
  {
   "cell_type": "markdown",
   "id": "heavy-mortgage",
   "metadata": {},
   "source": [
    "\n",
    "\n",
    "\n",
    "## Outliers\n",
    "\n",
    "---\n",
    "\n",
    "When dealing with automobile data from Craiglist we are ought to get many outliers. For example, look at the code below, the vanilla Dataset has 32,895 rows with cars listed at 0 dollars, this is plenty of enough values to skew our results and so we must deal with outliers.\n",
    "\n"
   ]
  },
  {
   "cell_type": "code",
   "execution_count": 5,
   "id": "specified-destiny",
   "metadata": {},
   "outputs": [
    {
     "data": {
      "text/plain": [
       "0       30477\n",
       "6995     3016\n",
       "7995     2953\n",
       "9995     2700\n",
       "8995     2676\n",
       "Name: price, dtype: int64"
      ]
     },
     "execution_count": 5,
     "metadata": {},
     "output_type": "execute_result"
    }
   ],
   "source": [
    "df.price.value_counts().head()"
   ]
  },
  {
   "cell_type": "markdown",
   "id": "asian-period",
   "metadata": {},
   "source": [
    "<br />\n",
    "\n",
    "---\n",
    "\n",
    "\n",
    "To start, we have 3 numeric features in which human error can introduct outliers. These features are Price, Odometer, and Year. To simplify our data and remove outliers I could do something like finding the z-score of each feature then remove outliers that way, though I feel as if because of the number of 0's we potentially have out z-score itself is going to be biased toward the outliers. \n",
    "\n",
    "**Solution:** The easiest way around this is just to restrict the domains themself.\n",
    "\n"
   ]
  },
  {
   "cell_type": "code",
   "execution_count": 6,
   "id": "classified-network",
   "metadata": {},
   "outputs": [
    {
     "data": {
      "text/plain": [
       "299313"
      ]
     },
     "execution_count": 6,
     "metadata": {},
     "output_type": "execute_result"
    }
   ],
   "source": [
    "# Removing any cars that don't have price between 500 < x < 80000\n",
    "df = df[df['price'] > 500]\n",
    "df = df[df['price'] < 80000] \n",
    "\n",
    "# Removing any cars that don't have odometer between 500 < x < 300000\n",
    "df = df[df['odometer'] < 300000]\n",
    "df = df[df['odometer'] > 500]\n",
    "\n",
    "# Removing any cars that don't have year between 2020 < x < 2000\n",
    "df = df[df['year'] < 2020]\n",
    "df = df[df['year'] > 2000]\n",
    "\n",
    "len(df.index)"
   ]
  },
  {
   "cell_type": "markdown",
   "id": "african-reset",
   "metadata": {},
   "source": [
    "<br />\n",
    "\n",
    "\n",
    "We have removed over 100,000 entries which lie beyond this domain restriction.\n",
    "\n"
   ]
  },
  {
   "cell_type": "markdown",
   "id": "maritime-trainer",
   "metadata": {},
   "source": [
    "## NaN Values\n",
    "\n",
    "---\n",
    "\n",
    "Later in this Notebook I will Target encode the majority of features besides Manufacturer. This will deal with the NaN values on it's own by encoding them as if they are they're own domain. \n",
    "\n",
    "I let this happen because if I were to just remove them then out dataset actually shrinks to just above 100k entries.\n",
    "\n",
    "**LOOK INTO METHODS OF IMPUTATION**\n",
    "\n"
   ]
  },
  {
   "cell_type": "code",
   "execution_count": 7,
   "id": "unable-enhancement",
   "metadata": {},
   "outputs": [
    {
     "data": {
      "text/plain": [
       "173174"
      ]
     },
     "execution_count": 7,
     "metadata": {},
     "output_type": "execute_result"
    }
   ],
   "source": [
    "# TALK ABOUT WHY THIS INCREASES R2 SCORE BY 7% \n",
    "\n",
    "df.dropna(subset = [\"odometer\", \"cylinders\", \"manufacturer\", \"model\"], inplace=True)\n",
    "\n",
    "df.fillna(\"0\", inplace=True)\n",
    "\n",
    "len(df.index)"
   ]
  },
  {
   "cell_type": "markdown",
   "id": "certified-protest",
   "metadata": {},
   "source": [
    "<br />\n",
    "\n",
    "## 3. Exploratory Data Analysis (EDA)\n",
    "\n",
    "---\n",
    "\n",
    "The main goal of this analysis will be to gain insights on how out Categorical Data relates to ** PRICE ???? FIX THIS **."
   ]
  },
  {
   "cell_type": "code",
   "execution_count": 8,
   "id": "color-mandate",
   "metadata": {},
   "outputs": [],
   "source": [
    "sample = df[['price', 'year', 'transmission', 'fuel', 'title_status', 'type', 'drive', 'manufacturer']]\n",
    "\n",
    "sample = sample.dropna().sample(10000)\n",
    "\n",
    "sample = sample[sample['year'] > 2010] \n",
    "\n",
    "smaller_sample = sample[sample['year'] < 2013] "
   ]
  },
  {
   "cell_type": "code",
   "execution_count": 10,
   "id": "antique-shade",
   "metadata": {},
   "outputs": [
    {
     "data": {
      "text/plain": [
       "<seaborn.axisgrid.FacetGrid at 0x175cabf70>"
      ]
     },
     "execution_count": 10,
     "metadata": {},
     "output_type": "execute_result"
    },
    {
     "data": {
      "image/png": "[encoded data removed]",
      "text/plain": [
       "<Figure size 1166.38x360 with 1 Axes>"
      ]
     },
     "metadata": {
      "needs_background": "light"
     },
     "output_type": "display_data"
    }
   ],
   "source": [
    "sb.catplot(x = \"year\", y = \"price\", hue = \"transmission\", kind = \"box\", data = sample, height = 5, aspect = 3)"
   ]
  },
  {
   "cell_type": "code",
   "execution_count": 11,
   "id": "apparent-native",
   "metadata": {},
   "outputs": [
    {
     "data": {
      "text/plain": [
       "<seaborn.axisgrid.FacetGrid at 0x180765e80>"
      ]
     },
     "execution_count": 11,
     "metadata": {},
     "output_type": "execute_result"
    },
    {
     "data": {
      "image/png": "[encoded data removed]",
      "text/plain": [
       "<Figure size 1153x360 with 1 Axes>"
      ]
     },
     "metadata": {
      "needs_background": "light"
     },
     "output_type": "display_data"
    }
   ],
   "source": [
    "sb.catplot(x = \"year\", y = \"price\", hue = \"fuel\", kind = \"box\", data = sample, height = 5, aspect = 3)"
   ]
  },
  {
   "cell_type": "code",
   "execution_count": 12,
   "id": "variable-prince",
   "metadata": {},
   "outputs": [
    {
     "data": {
      "text/plain": [
       "<seaborn.axisgrid.FacetGrid at 0x180a32dc0>"
      ]
     },
     "execution_count": 12,
     "metadata": {},
     "output_type": "execute_result"
    },
    {
     "data": {
      "image/png": "[encoded data removed]",
      "text/plain": [
       "<Figure size 1143.38x360 with 1 Axes>"
      ]
     },
     "metadata": {
      "needs_background": "light"
     },
     "output_type": "display_data"
    }
   ],
   "source": [
    "sb.catplot(x = \"year\", y = \"price\", hue = \"title_status\", kind = \"box\", data = sample, height = 5, aspect = 3)"
   ]
  },
  {
   "cell_type": "code",
   "execution_count": 13,
   "id": "ethical-supervision",
   "metadata": {},
   "outputs": [
    {
     "data": {
      "text/plain": [
       "<seaborn.axisgrid.FacetGrid at 0x180b7f9a0>"
      ]
     },
     "execution_count": 13,
     "metadata": {},
     "output_type": "execute_result"
    },
    {
     "data": {
      "image/png": "[encoded data removed]",
      "text/plain": [
       "<Figure size 1172x360 with 1 Axes>"
      ]
     },
     "metadata": {
      "needs_background": "light"
     },
     "output_type": "display_data"
    }
   ],
   "source": [
    "sb.catplot(x = \"year\", y = \"price\", hue = \"type\", kind = \"box\", data = smaller_sample, height = 5, aspect = 3)"
   ]
  },
  {
   "cell_type": "code",
   "execution_count": 14,
   "id": "german-click",
   "metadata": {},
   "outputs": [
    {
     "data": {
      "text/plain": [
       "<seaborn.axisgrid.FacetGrid at 0x180cf2f70>"
      ]
     },
     "execution_count": 14,
     "metadata": {},
     "output_type": "execute_result"
    },
    {
     "data": {
      "image/png": "[encoded data removed]",
      "text/plain": [
       "<Figure size 1136.75x360 with 1 Axes>"
      ]
     },
     "metadata": {
      "needs_background": "light"
     },
     "output_type": "display_data"
    }
   ],
   "source": [
    "sb.catplot(x = \"year\", y = \"price\", hue = \"drive\", kind = \"box\", data = sample, height = 5, aspect = 3)"
   ]
  },
  {
   "cell_type": "code",
   "execution_count": 15,
   "id": "traditional-thousand",
   "metadata": {},
   "outputs": [
    {
     "data": {
      "text/plain": [
       "<AxesSubplot:xlabel='price', ylabel='manufacturer'>"
      ]
     },
     "execution_count": 15,
     "metadata": {},
     "output_type": "execute_result"
    },
    {
     "data": {
      "image/png": "[encoded data removed]",
      "text/plain": [
       "<Figure size 936x1296 with 1 Axes>"
      ]
     },
     "metadata": {
      "needs_background": "light"
     },
     "output_type": "display_data"
    }
   ],
   "source": [
    "# sb.catplot(x=\"price\", y=\"manufacturer\", hue=\"manufacturer\", kind=\"box\", data=type_data, height=10, aspect=2, notch=True)\n",
    "fig = plt.figure(figsize = (13, 18))\n",
    "\n",
    "ax = fig.gca()\n",
    "\n",
    "sb.boxplot(x = 'price', y = 'manufacturer', data = sample)"
   ]
  },
  {
   "cell_type": "markdown",
   "id": "considered-coupon",
   "metadata": {
    "tags": []
   },
   "source": [
    "<br />\n",
    "\n",
    "## 4. Feature Engineering\n",
    "\n",
    "---\n",
    "\n",
    "We have 11 categorical features that need to be represented numerically. \n",
    "\n",
    "Target Encoding for everything but Manufacturer\n",
    "\n",
    "One-Hot Encoding for Manufacturer\n",
    "\n",
    "Pipeline each one of these\n",
    "\n",
    "I CANNOT MAKE GUESSES. MAKE HYPOTHESIS THEN PROVE USING DATA.\n",
    "\n",
    "NOTE: Check correlation between price / year / and transmission (manual / auto) using bar graph\n"
   ]
  },
  {
   "cell_type": "code",
   "execution_count": 16,
   "id": "photographic-software",
   "metadata": {},
   "outputs": [],
   "source": [
    "Y = df['price']\n",
    "\n",
    "df.drop('price', inplace=True, axis=1)"
   ]
  },
  {
   "cell_type": "code",
   "execution_count": 17,
   "id": "annual-compound",
   "metadata": {},
   "outputs": [
    {
     "name": "stderr",
     "output_type": "stream",
     "text": [
      "/usr/local/lib/python3.9/site-packages/category_encoders/utils.py:21: FutureWarning: is_categorical is deprecated and will be removed in a future version.  Use is_categorical_dtype instead\n",
      "  elif pd.api.types.is_categorical(cols):\n"
     ]
    },
    {
     "data": {
      "text/html": [
       "<div>\n",
       "<style scoped>\n",
       "    .dataframe tbody tr th:only-of-type {\n",
       "        vertical-align: middle;\n",
       "    }\n",
       "\n",
       "    .dataframe tbody tr th {\n",
       "        vertical-align: top;\n",
       "    }\n",
       "\n",
       "    .dataframe thead th {\n",
       "        text-align: right;\n",
       "    }\n",
       "</style>\n",
       "<table border=\"1\" class=\"dataframe\">\n",
       "  <thead>\n",
       "    <tr style=\"text-align: right;\">\n",
       "      <th></th>\n",
       "      <th>year</th>\n",
       "      <th>model</th>\n",
       "      <th>condition</th>\n",
       "      <th>cylinders</th>\n",
       "      <th>fuel</th>\n",
       "      <th>odometer</th>\n",
       "      <th>title_status</th>\n",
       "      <th>transmission</th>\n",
       "      <th>drive</th>\n",
       "      <th>size</th>\n",
       "      <th>...</th>\n",
       "      <th>pontiac</th>\n",
       "      <th>porsche</th>\n",
       "      <th>ram</th>\n",
       "      <th>rover</th>\n",
       "      <th>saturn</th>\n",
       "      <th>subaru</th>\n",
       "      <th>tesla</th>\n",
       "      <th>toyota</th>\n",
       "      <th>volkswagen</th>\n",
       "      <th>volvo</th>\n",
       "    </tr>\n",
       "  </thead>\n",
       "  <tbody>\n",
       "    <tr>\n",
       "      <th>27</th>\n",
       "      <td>2014.0</td>\n",
       "      <td>34835.248869</td>\n",
       "      <td>18397.063930</td>\n",
       "      <td>24596.647203</td>\n",
       "      <td>16315.055545</td>\n",
       "      <td>57923.0</td>\n",
       "      <td>17626.893866</td>\n",
       "      <td>29287.400534</td>\n",
       "      <td>17941.398597</td>\n",
       "      <td>19680.694149</td>\n",
       "      <td>...</td>\n",
       "      <td>0</td>\n",
       "      <td>0</td>\n",
       "      <td>0</td>\n",
       "      <td>0</td>\n",
       "      <td>0</td>\n",
       "      <td>0</td>\n",
       "      <td>0</td>\n",
       "      <td>0</td>\n",
       "      <td>0</td>\n",
       "      <td>0</td>\n",
       "    </tr>\n",
       "    <tr>\n",
       "      <th>28</th>\n",
       "      <td>2010.0</td>\n",
       "      <td>22457.501834</td>\n",
       "      <td>18397.063930</td>\n",
       "      <td>24596.647203</td>\n",
       "      <td>16315.055545</td>\n",
       "      <td>71229.0</td>\n",
       "      <td>17626.893866</td>\n",
       "      <td>29287.400534</td>\n",
       "      <td>17941.398597</td>\n",
       "      <td>19680.694149</td>\n",
       "      <td>...</td>\n",
       "      <td>0</td>\n",
       "      <td>0</td>\n",
       "      <td>0</td>\n",
       "      <td>0</td>\n",
       "      <td>0</td>\n",
       "      <td>0</td>\n",
       "      <td>0</td>\n",
       "      <td>0</td>\n",
       "      <td>0</td>\n",
       "      <td>0</td>\n",
       "    </tr>\n",
       "    <tr>\n",
       "      <th>30</th>\n",
       "      <td>2017.0</td>\n",
       "      <td>34771.631944</td>\n",
       "      <td>18397.063930</td>\n",
       "      <td>24596.647203</td>\n",
       "      <td>16315.055545</td>\n",
       "      <td>41124.0</td>\n",
       "      <td>17626.893866</td>\n",
       "      <td>29287.400534</td>\n",
       "      <td>17941.398597</td>\n",
       "      <td>19680.694149</td>\n",
       "      <td>...</td>\n",
       "      <td>0</td>\n",
       "      <td>0</td>\n",
       "      <td>0</td>\n",
       "      <td>0</td>\n",
       "      <td>0</td>\n",
       "      <td>0</td>\n",
       "      <td>0</td>\n",
       "      <td>1</td>\n",
       "      <td>0</td>\n",
       "      <td>0</td>\n",
       "    </tr>\n",
       "    <tr>\n",
       "      <th>31</th>\n",
       "      <td>2013.0</td>\n",
       "      <td>21264.460000</td>\n",
       "      <td>14757.507173</td>\n",
       "      <td>17930.102059</td>\n",
       "      <td>16315.055545</td>\n",
       "      <td>128000.0</td>\n",
       "      <td>17626.893866</td>\n",
       "      <td>16325.423371</td>\n",
       "      <td>19836.328559</td>\n",
       "      <td>17196.853967</td>\n",
       "      <td>...</td>\n",
       "      <td>0</td>\n",
       "      <td>0</td>\n",
       "      <td>0</td>\n",
       "      <td>0</td>\n",
       "      <td>0</td>\n",
       "      <td>0</td>\n",
       "      <td>0</td>\n",
       "      <td>0</td>\n",
       "      <td>0</td>\n",
       "      <td>0</td>\n",
       "    </tr>\n",
       "    <tr>\n",
       "      <th>32</th>\n",
       "      <td>2012.0</td>\n",
       "      <td>26463.151515</td>\n",
       "      <td>18397.063930</td>\n",
       "      <td>24596.647203</td>\n",
       "      <td>16315.055545</td>\n",
       "      <td>68696.0</td>\n",
       "      <td>17626.893866</td>\n",
       "      <td>29287.400534</td>\n",
       "      <td>21967.005825</td>\n",
       "      <td>19680.694149</td>\n",
       "      <td>...</td>\n",
       "      <td>0</td>\n",
       "      <td>0</td>\n",
       "      <td>0</td>\n",
       "      <td>0</td>\n",
       "      <td>0</td>\n",
       "      <td>0</td>\n",
       "      <td>0</td>\n",
       "      <td>0</td>\n",
       "      <td>0</td>\n",
       "      <td>0</td>\n",
       "    </tr>\n",
       "    <tr>\n",
       "      <th>...</th>\n",
       "      <td>...</td>\n",
       "      <td>...</td>\n",
       "      <td>...</td>\n",
       "      <td>...</td>\n",
       "      <td>...</td>\n",
       "      <td>...</td>\n",
       "      <td>...</td>\n",
       "      <td>...</td>\n",
       "      <td>...</td>\n",
       "      <td>...</td>\n",
       "      <td>...</td>\n",
       "      <td>...</td>\n",
       "      <td>...</td>\n",
       "      <td>...</td>\n",
       "      <td>...</td>\n",
       "      <td>...</td>\n",
       "      <td>...</td>\n",
       "      <td>...</td>\n",
       "      <td>...</td>\n",
       "      <td>...</td>\n",
       "      <td>...</td>\n",
       "    </tr>\n",
       "    <tr>\n",
       "      <th>426857</th>\n",
       "      <td>2019.0</td>\n",
       "      <td>39427.665388</td>\n",
       "      <td>18397.063930</td>\n",
       "      <td>17930.102059</td>\n",
       "      <td>16315.055545</td>\n",
       "      <td>36630.0</td>\n",
       "      <td>17626.893866</td>\n",
       "      <td>29287.400534</td>\n",
       "      <td>21967.005825</td>\n",
       "      <td>19680.694149</td>\n",
       "      <td>...</td>\n",
       "      <td>0</td>\n",
       "      <td>0</td>\n",
       "      <td>0</td>\n",
       "      <td>0</td>\n",
       "      <td>0</td>\n",
       "      <td>0</td>\n",
       "      <td>0</td>\n",
       "      <td>1</td>\n",
       "      <td>0</td>\n",
       "      <td>0</td>\n",
       "    </tr>\n",
       "    <tr>\n",
       "      <th>426864</th>\n",
       "      <td>2016.0</td>\n",
       "      <td>28633.673913</td>\n",
       "      <td>18397.063930</td>\n",
       "      <td>17930.102059</td>\n",
       "      <td>16315.055545</td>\n",
       "      <td>53475.0</td>\n",
       "      <td>17626.893866</td>\n",
       "      <td>16325.423371</td>\n",
       "      <td>17941.398597</td>\n",
       "      <td>19680.694149</td>\n",
       "      <td>...</td>\n",
       "      <td>0</td>\n",
       "      <td>0</td>\n",
       "      <td>0</td>\n",
       "      <td>0</td>\n",
       "      <td>0</td>\n",
       "      <td>0</td>\n",
       "      <td>0</td>\n",
       "      <td>1</td>\n",
       "      <td>0</td>\n",
       "      <td>0</td>\n",
       "    </tr>\n",
       "    <tr>\n",
       "      <th>426874</th>\n",
       "      <td>2018.0</td>\n",
       "      <td>25488.360656</td>\n",
       "      <td>18397.063930</td>\n",
       "      <td>17930.102059</td>\n",
       "      <td>16315.055545</td>\n",
       "      <td>30814.0</td>\n",
       "      <td>17626.893866</td>\n",
       "      <td>16325.423371</td>\n",
       "      <td>19836.328559</td>\n",
       "      <td>19680.694149</td>\n",
       "      <td>...</td>\n",
       "      <td>0</td>\n",
       "      <td>0</td>\n",
       "      <td>0</td>\n",
       "      <td>0</td>\n",
       "      <td>0</td>\n",
       "      <td>0</td>\n",
       "      <td>0</td>\n",
       "      <td>0</td>\n",
       "      <td>0</td>\n",
       "      <td>0</td>\n",
       "    </tr>\n",
       "    <tr>\n",
       "      <th>426875</th>\n",
       "      <td>2019.0</td>\n",
       "      <td>24707.646255</td>\n",
       "      <td>18397.063930</td>\n",
       "      <td>17930.102059</td>\n",
       "      <td>16315.055545</td>\n",
       "      <td>32226.0</td>\n",
       "      <td>17626.893866</td>\n",
       "      <td>29287.400534</td>\n",
       "      <td>10374.351692</td>\n",
       "      <td>19680.694149</td>\n",
       "      <td>...</td>\n",
       "      <td>0</td>\n",
       "      <td>0</td>\n",
       "      <td>0</td>\n",
       "      <td>0</td>\n",
       "      <td>0</td>\n",
       "      <td>0</td>\n",
       "      <td>0</td>\n",
       "      <td>0</td>\n",
       "      <td>0</td>\n",
       "      <td>0</td>\n",
       "    </tr>\n",
       "    <tr>\n",
       "      <th>426878</th>\n",
       "      <td>2018.0</td>\n",
       "      <td>24434.258065</td>\n",
       "      <td>18397.063930</td>\n",
       "      <td>17930.102059</td>\n",
       "      <td>16315.055545</td>\n",
       "      <td>30112.0</td>\n",
       "      <td>17626.893866</td>\n",
       "      <td>29287.400534</td>\n",
       "      <td>10374.351692</td>\n",
       "      <td>19680.694149</td>\n",
       "      <td>...</td>\n",
       "      <td>0</td>\n",
       "      <td>0</td>\n",
       "      <td>0</td>\n",
       "      <td>0</td>\n",
       "      <td>0</td>\n",
       "      <td>0</td>\n",
       "      <td>0</td>\n",
       "      <td>0</td>\n",
       "      <td>0</td>\n",
       "      <td>0</td>\n",
       "    </tr>\n",
       "  </tbody>\n",
       "</table>\n",
       "<p>173174 rows × 52 columns</p>\n",
       "</div>"
      ],
      "text/plain": [
       "          year         model     condition     cylinders          fuel  \\\n",
       "27      2014.0  34835.248869  18397.063930  24596.647203  16315.055545   \n",
       "28      2010.0  22457.501834  18397.063930  24596.647203  16315.055545   \n",
       "30      2017.0  34771.631944  18397.063930  24596.647203  16315.055545   \n",
       "31      2013.0  21264.460000  14757.507173  17930.102059  16315.055545   \n",
       "32      2012.0  26463.151515  18397.063930  24596.647203  16315.055545   \n",
       "...        ...           ...           ...           ...           ...   \n",
       "426857  2019.0  39427.665388  18397.063930  17930.102059  16315.055545   \n",
       "426864  2016.0  28633.673913  18397.063930  17930.102059  16315.055545   \n",
       "426874  2018.0  25488.360656  18397.063930  17930.102059  16315.055545   \n",
       "426875  2019.0  24707.646255  18397.063930  17930.102059  16315.055545   \n",
       "426878  2018.0  24434.258065  18397.063930  17930.102059  16315.055545   \n",
       "\n",
       "        odometer  title_status  transmission         drive          size  ...  \\\n",
       "27       57923.0  17626.893866  29287.400534  17941.398597  19680.694149  ...   \n",
       "28       71229.0  17626.893866  29287.400534  17941.398597  19680.694149  ...   \n",
       "30       41124.0  17626.893866  29287.400534  17941.398597  19680.694149  ...   \n",
       "31      128000.0  17626.893866  16325.423371  19836.328559  17196.853967  ...   \n",
       "32       68696.0  17626.893866  29287.400534  21967.005825  19680.694149  ...   \n",
       "...          ...           ...           ...           ...           ...  ...   \n",
       "426857   36630.0  17626.893866  29287.400534  21967.005825  19680.694149  ...   \n",
       "426864   53475.0  17626.893866  16325.423371  17941.398597  19680.694149  ...   \n",
       "426874   30814.0  17626.893866  16325.423371  19836.328559  19680.694149  ...   \n",
       "426875   32226.0  17626.893866  29287.400534  10374.351692  19680.694149  ...   \n",
       "426878   30112.0  17626.893866  29287.400534  10374.351692  19680.694149  ...   \n",
       "\n",
       "        pontiac  porsche  ram  rover  saturn  subaru  tesla  toyota  \\\n",
       "27            0        0    0      0       0       0      0       0   \n",
       "28            0        0    0      0       0       0      0       0   \n",
       "30            0        0    0      0       0       0      0       1   \n",
       "31            0        0    0      0       0       0      0       0   \n",
       "32            0        0    0      0       0       0      0       0   \n",
       "...         ...      ...  ...    ...     ...     ...    ...     ...   \n",
       "426857        0        0    0      0       0       0      0       1   \n",
       "426864        0        0    0      0       0       0      0       1   \n",
       "426874        0        0    0      0       0       0      0       0   \n",
       "426875        0        0    0      0       0       0      0       0   \n",
       "426878        0        0    0      0       0       0      0       0   \n",
       "\n",
       "        volkswagen  volvo  \n",
       "27               0      0  \n",
       "28               0      0  \n",
       "30               0      0  \n",
       "31               0      0  \n",
       "32               0      0  \n",
       "...            ...    ...  \n",
       "426857           0      0  \n",
       "426864           0      0  \n",
       "426874           0      0  \n",
       "426875           0      0  \n",
       "426878           0      0  \n",
       "\n",
       "[173174 rows x 52 columns]"
      ]
     },
     "execution_count": 17,
     "metadata": {},
     "output_type": "execute_result"
    }
   ],
   "source": [
    "# ------------- Target Encoding ----------------- #\n",
    "\n",
    "# Complies Target Encoding for Features (NOT INCLUDING \"Manufacturer\")\n",
    "target_encode = ce.TargetEncoder(cols = ['transmission', 'fuel', 'title_status', 'type', 'drive', 'state', \n",
    "                                         'condition', 'size', 'cylinders', 'paint_color', 'model']).fit(df, Y)\n",
    "\n",
    "# Applies Target Endcoding and Transforms Dataframe\n",
    "df = target_encode.transform(df)\n",
    "\n",
    "\n",
    "\n",
    "# ------------- One-Hot Encoding ---------------- #\n",
    "\n",
    "# Builds One-Hot Encoding \n",
    "one_hot_encoding = pd.get_dummies(df.manufacturer)\n",
    "\n",
    "# Drops Categorical Manufactural Feature\n",
    "df.drop('manufacturer', inplace=True, axis=1)\n",
    "\n",
    "# Adds One-Hot Encoding of Manufacturers to Dataframe\n",
    "df = pd.concat([df, one_hot_encoding], axis=1)\n",
    "\n",
    "df"
   ]
  },
  {
   "cell_type": "markdown",
   "id": "acute-bandwidth",
   "metadata": {},
   "source": [
    "\n",
    "\n",
    "## Normalizing & Saving the Data\n",
    "\n",
    "---\n",
    "\n",
    "I will be saving a version of the dataframe Unnormalized and Normalized in order to help tune the models later on.\n",
    "\n"
   ]
  },
  {
   "cell_type": "code",
   "execution_count": 12,
   "id": "asian-adapter",
   "metadata": {},
   "outputs": [],
   "source": [
    "normalized_df = pd.DataFrame(stats.zscore(df))\n",
    "\n",
    "normalized_df.to_csv('normalized_cleaned_vehicles.csv')\n",
    "df.to_csv('cleaned_vehicles.csv')"
   ]
  },
  {
   "cell_type": "code",
   "execution_count": 43,
   "id": "formal-conversation",
   "metadata": {},
   "outputs": [],
   "source": [
    "df = stats.zscore(df)"
   ]
  },
  {
   "cell_type": "code",
   "execution_count": 18,
   "id": "handed-framing",
   "metadata": {},
   "outputs": [],
   "source": [
    "def accuracy(test_actual, test_predicted, model):\n",
    "    print(\"MAE Score : {} | {}\".format(sklearn.metrics.mean_absolute_error(test_actual, test_predicted), model))\n",
    "    print(\"R2 Score  : {} | {}\".format(sklearn.metrics.r2_score(test_actual, test_predicted), model))"
   ]
  },
  {
   "cell_type": "markdown",
   "id": "accepted-johns",
   "metadata": {},
   "source": [
    "### 1. Random Forest\n",
    "\n"
   ]
  },
  {
   "cell_type": "code",
   "execution_count": 19,
   "id": "detailed-lighter",
   "metadata": {},
   "outputs": [],
   "source": [
    "# Splitting the Data.\n",
    "X_train, X_test, y_train, y_test = train_test_split(df, Y, train_size=0.90, test_size=0.1, random_state=42)\n",
    "\n",
    "test = y_test.to_numpy()"
   ]
  },
  {
   "cell_type": "code",
   "execution_count": 20,
   "id": "informative-stretch",
   "metadata": {},
   "outputs": [
    {
     "name": "stdout",
     "output_type": "stream",
     "text": [
      "MAE Score : 1540.9260019000562 | Random Forest Regressor\n",
      "R2 Score  : 0.9321763387307997 | Random Forest Regressor\n"
     ]
    }
   ],
   "source": [
    "# RANDOM FOREST\n",
    "\n",
    "RFR_model = RandomForestRegressor(random_state = 1) \n",
    "\n",
    "RFR_model.fit(X_train, y_train)\n",
    "\n",
    "results = RFR_model.predict(X_test)\n",
    "\n",
    "accuracy(test, results, \"Random Forest Regressor\")"
   ]
  },
  {
   "cell_type": "markdown",
   "id": "utility-tomato",
   "metadata": {},
   "source": [
    "<br />\n",
    "\n",
    "### Analysing the Importance of each Feature\n",
    "\n",
    "---\n",
    "\n"
   ]
  },
  {
   "cell_type": "code",
   "execution_count": 21,
   "id": "irish-gardening",
   "metadata": {},
   "outputs": [
    {
     "data": {
      "text/plain": [
       "<AxesSubplot:>"
      ]
     },
     "execution_count": 21,
     "metadata": {},
     "output_type": "execute_result"
    },
    {
     "data": {
      "image/png": "[encoded data removed]",
      "text/plain": [
       "<Figure size 720x720 with 1 Axes>"
      ]
     },
     "metadata": {
      "needs_background": "light"
     },
     "output_type": "display_data"
    }
   ],
   "source": [
    "# FEATURE IMPORTANCE\n",
    "\n",
    "feat_importances = pd.Series(RFR_model.feature_importances_, index = df.columns)\n",
    "\n",
    "feat_importances.nlargest(25).plot(kind = 'barh', figsize = (10, 10))"
   ]
  },
  {
   "cell_type": "code",
   "execution_count": 22,
   "id": "aquatic-penny",
   "metadata": {},
   "outputs": [
    {
     "name": "stdout",
     "output_type": "stream",
     "text": [
      "MAE Score : 2998.262455248874 | K-Nearest-Regressor\n",
      "R2 Score  : 0.8281806634598753 | K-Nearest-Regressor\n"
     ]
    }
   ],
   "source": [
    "# K-Nearest-Regressor\n",
    "\n",
    "KNR_model = KNeighborsRegressor(n_neighbors=5)\n",
    "\n",
    "KNR_model.fit(X_train, y_train)\n",
    "\n",
    "results = KNR_model.predict(X_test)\n",
    "\n",
    "accuracy(test, results, \"K-Nearest-Regressor\")"
   ]
  },
  {
   "cell_type": "code",
   "execution_count": null,
   "id": "detailed-petersburg",
   "metadata": {},
   "outputs": [],
   "source": [
    "# NEED TO FIX\n",
    "\n",
    "LR_model = sklearn.linear_model.LogisticRegression()\n",
    "\n",
    "LR_model.fit(X_train, y_train)\n",
    "\n",
    "results = LR_model.predict(X_test)\n",
    "\n",
    "accuracy(test, results, \"Logistic Regression\")"
   ]
  },
  {
   "cell_type": "code",
   "execution_count": null,
   "id": "utility-blogger",
   "metadata": {},
   "outputs": [],
   "source": []
  },
  {
   "cell_type": "code",
   "execution_count": null,
   "id": "potential-ukraine",
   "metadata": {},
   "outputs": [],
   "source": []
  },
  {
   "cell_type": "code",
   "execution_count": null,
   "id": "selective-fields",
   "metadata": {},
   "outputs": [],
   "source": [
    "# ADD SOMEWHERE\n",
    "\n",
    "df\n",
    "x_2 = df[['year', 'price', 'odometer']]\n",
    "# calculate correlation matrix\n",
    "corr = x_2.corr()# plot the heatmap\n",
    "sb.heatmap(corr, xticklabels=corr.columns, yticklabels=corr.columns, annot=True, cmap=sb.diverging_palette(220, 20, as_cmap=True))\n",
    "\n",
    "\n",
    "\n",
    "# CRIB THIS\n",
    "# from sklearn.model_selection import cross_validate\n",
    "# cv_results = cross_validate(RFR_model, df, Y, cv=3)\n",
    "\n",
    "# scores = cross_validate(RFR_model, df, Y, cv=3, scoring=('r2'), return_train_score=True)\n",
    "\n",
    "# results = RFR_model.predict(X_test)\n",
    "\n",
    "# test = y_test.to_numpy()\n",
    "\n",
    "# print(scores['test_score'])"
   ]
  }
 ],
 "metadata": {
  "kernelspec": {
   "display_name": "Python 3",
   "language": "python",
   "name": "python3"
  },
  "language_info": {
   "codemirror_mode": {
    "name": "ipython",
    "version": 3
   },
   "file_extension": ".py",
   "mimetype": "text/x-python",
   "name": "python",
   "nbconvert_exporter": "python",
   "pygments_lexer": "ipython3",
   "version": "3.9.2"
  }
 },
 "nbformat": 4,
 "nbformat_minor": 5
}
