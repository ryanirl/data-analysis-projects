{
 "cells": [
  {
   "cell_type": "markdown",
   "id": "fifty-transcription",
   "metadata": {
    "tags": []
   },
   "source": [
    "# PART 1: Car Data Cleaning\n",
    "\n",
    "---\n",
    "\n",
    "## Table of Contents\n",
    "1. Data Gathering\n",
    "2. Cleaning the Data & Dealing with Outliers\n",
    "3. Feature Engineering & Visualizing Relationships\n",
    "4. Normalization?\n",
    "\n",
    "**++++++++\n",
    "I want to try one more encoding scheme then start putting together the final products.\n",
    "++++++++**\n",
    "\n",
    "CHECK OUT DISTRIBUTION OF DATA\n",
    "\n",
    "RELAION BETWEEN EVERYTHING\n",
    "\n",
    "\n",
    "\n",
    "#### NOTE: FIND WAY TO LINK TABLE OF CONTENTS\n",
    "\n",
    "---\n",
    "\n",
    "<br />\n",
    "\n"
   ]
  },
  {
   "cell_type": "markdown",
   "id": "soviet-twist",
   "metadata": {},
   "source": [
    "\n",
    "\n",
    "## 1. Data Gathering\n",
    "\n",
    "---\n",
    "\n",
    "My original plan for this project was to use data collected from one of my previous projects (https://github.com/ryanirl/CraigslistScraper) but rather than spending weeks gathering a large dataset (100k+ entries) I found this dataset (https://www.kaggle.com/austinreese/craigslist-carstrucks-data) on kaggle which has already scrapped some 400k+ entries of data. Huge thanks to the person who has been compiling this data for this amount of time. If you are following along on your own I would highly recommend downloading this dataset from kaggle as it's to large to throw on GitHub, though I will most likely have my cleaned data posted to github in a zip file.\n",
    "\n"
   ]
  },
  {
   "cell_type": "code",
   "execution_count": 1,
   "id": "ready-nursing",
   "metadata": {},
   "outputs": [],
   "source": [
    "# Imports\n",
    "import numpy as np\n",
    "import pandas as pd\n",
    "import seaborn as sb\n",
    "import matplotlib.pyplot as plt\n",
    "import sklearn\n",
    "from scipy import stats\n",
    "\n",
    "# REMOVE BEFORE UPLOAD -----\n",
    "from sklearn.ensemble import RandomForestRegressor\n",
    "from sklearn.model_selection import train_test_split\n",
    "from pandas_profiling import ProfileReport\n",
    "# --------------------------\n",
    "\n",
    "import category_encoders as ce\n",
    "from sklearn.model_selection import train_test_split\n",
    "import sklearn\n",
    "\n",
    "# I think I can minimize this down a bit during pipeline\n",
    "from sklearn.neighbors import KNeighborsRegressor\n",
    "\n",
    "%matplotlib inline"
   ]
  },
  {
   "cell_type": "code",
   "execution_count": 2,
   "id": "extensive-ecuador",
   "metadata": {},
   "outputs": [
    {
     "name": "stdout",
     "output_type": "stream",
     "text": [
      "<class 'pandas.core.frame.DataFrame'>\n",
      "RangeIndex: 426880 entries, 0 to 426879\n",
      "Data columns (total 26 columns):\n",
      " #   Column        Non-Null Count   Dtype  \n",
      "---  ------        --------------   -----  \n",
      " 0   id            426880 non-null  int64  \n",
      " 1   url           426880 non-null  object \n",
      " 2   region        426880 non-null  object \n",
      " 3   region_url    426880 non-null  object \n",
      " 4   price         426880 non-null  int64  \n",
      " 5   year          425675 non-null  float64\n",
      " 6   manufacturer  409234 non-null  object \n",
      " 7   model         421603 non-null  object \n",
      " 8   condition     252776 non-null  object \n",
      " 9   cylinders     249202 non-null  object \n",
      " 10  fuel          423867 non-null  object \n",
      " 11  odometer      422480 non-null  float64\n",
      " 12  title_status  418638 non-null  object \n",
      " 13  transmission  424324 non-null  object \n",
      " 14  VIN           265838 non-null  object \n",
      " 15  drive         296313 non-null  object \n",
      " 16  size          120519 non-null  object \n",
      " 17  type          334022 non-null  object \n",
      " 18  paint_color   296677 non-null  object \n",
      " 19  image_url     426812 non-null  object \n",
      " 20  description   426810 non-null  object \n",
      " 21  county        0 non-null       float64\n",
      " 22  state         426880 non-null  object \n",
      " 23  lat           420331 non-null  float64\n",
      " 24  long          420331 non-null  float64\n",
      " 25  posting_date  426812 non-null  object \n",
      "dtypes: float64(5), int64(2), object(19)\n",
      "memory usage: 84.7+ MB\n"
     ]
    }
   ],
   "source": [
    "# Reading in the Data\n",
    "df = pd.read_csv('vehicles.csv')\n",
    "df.info()"
   ]
  },
  {
   "cell_type": "markdown",
   "id": "acceptable-temple",
   "metadata": {},
   "source": [
    "<br />\n",
    "\n",
    "## 2. Cleaning the Data & Dealing with Outliers\n",
    "\n",
    "---\n",
    "\n",
    "Of the 25 features included in the dataset we are only interested in features with strong correlation to price. It's easy to see that - **posting_date, county, image_url, region_url, region_url, description, id, url, region, VIN, long, and lat** - won't have a strong correlation to the price and can therefore be removed.\n",
    "\n",
    "In addition, because we are given Manufacturer I am going to remove Model because working with this feature is too unconsistant and subjective to human input error (EX: GIVE EX). If we had millions of entries of data and if this data wasn't collected on craigslist then this would be an indispensible feature but because \"Model\" is an open field entry in craigslst then this feature would only confuse our model **ELEBORATE ON THIS WITH A PICTURE OF THE FIELD TOO**. This leaves us with 14 Key Features.\n",
    "\n",
    "\n",
    "### Important Features of the Dataset:\n",
    "\n",
    "**Numeric Features:**\n",
    "- Price           \n",
    "- Year  \n",
    "- Odometer\n",
    "\n",
    "\n",
    "\n",
    "**Categorical Features:**\n",
    "\n",
    "Nominal:\n",
    "- Manufacturer \n",
    "- Type \n",
    "- Paint Color\n",
    "- Transmission\n",
    "- Drive\n",
    "- Fuel\n",
    "- State\n",
    "\n",
    "Ordinal:\n",
    "- Condition                         \n",
    "- Cylinders           \n",
    "- Size               \n",
    "- Title Status ( Ordinal for example because \"salvage_title\" < \"clear\" )\n",
    "\n",
    "\n",
    "---\n",
    "\n"
   ]
  },
  {
   "cell_type": "code",
   "execution_count": 3,
   "id": "concrete-mambo",
   "metadata": {},
   "outputs": [],
   "source": [
    "# List of \"Bad Features\" whos values aren't correlated with price. \n",
    "bad_features = ['posting_date', 'county', 'image_url', 'region_url', 'region_url', 'description',\n",
    "                'id', 'url', 'model', 'region', 'VIN', 'long', 'lat']\n",
    "\n",
    "# Remeving these bad features from out Dataset.\n",
    "df.drop(bad_features, inplace=True, axis=1)\n"
   ]
  },
  {
   "cell_type": "markdown",
   "id": "plain-petersburg",
   "metadata": {},
   "source": [
    "\n",
    "\n",
    "\n",
    "## Outliers\n",
    "\n",
    "---\n",
    "\n",
    "When dealing with automobile data from Craiglist we are ought to get many outliers. For example, look at the code below, the vanilla Dataset has 32,895 rows with cars listed at 0 dollars, this is plenty of enough values to skew our results and so we must deal with outliers.\n",
    "\n"
   ]
  },
  {
   "cell_type": "code",
   "execution_count": 4,
   "id": "architectural-hampton",
   "metadata": {},
   "outputs": [
    {
     "data": {
      "text/plain": [
       "0       32895\n",
       "6995     3169\n",
       "7995     3129\n",
       "9995     2867\n",
       "8995     2837\n",
       "Name: price, dtype: int64"
      ]
     },
     "execution_count": 4,
     "metadata": {},
     "output_type": "execute_result"
    }
   ],
   "source": [
    "df.price.value_counts().head()"
   ]
  },
  {
   "cell_type": "markdown",
   "id": "premium-chest",
   "metadata": {},
   "source": [
    "<br />\n",
    "\n",
    "---\n",
    "\n",
    "\n",
    "To start, we have 3 numeric features in which human error can introduct outliers. These features are Price, Odometer, and Year. To simplify our data and remove outliers I could do something like finding the z-score of each feature then remove outliers that way, though I feel as if because of the number of 0's we potentially have out z-score itself is going to be biased toward the outliers. \n",
    "\n",
    "**Solution:** The easiest way around this is just to restrict the domains themself.\n",
    "\n"
   ]
  },
  {
   "cell_type": "code",
   "execution_count": 4,
   "id": "liquid-square",
   "metadata": {},
   "outputs": [
    {
     "data": {
      "text/plain": [
       "327544"
      ]
     },
     "execution_count": 4,
     "metadata": {},
     "output_type": "execute_result"
    }
   ],
   "source": [
    "# Removing any cars that don't have price between 500 < x < 80000\n",
    "df = df[df['price'] > 500]\n",
    "df = df[df['price'] < 80000]\n",
    "\n",
    "# Removing any cars that don't have odometer between 500 < x < 300000\n",
    "df = df[df['odometer'] < 300000]\n",
    "df = df[df['odometer'] > 500]\n",
    "\n",
    "# Removing any cars that don't have year between 2020 < x < 2000\n",
    "df = df[df['year'] < 2020]\n",
    "df = df[df['year'] > 2000]\n",
    "\n",
    "len(df.index)"
   ]
  },
  {
   "cell_type": "markdown",
   "id": "superb-scenario",
   "metadata": {},
   "source": [
    "<br />\n",
    "\n",
    "\n",
    "We have removed over 100,000 entries which lie beyond this domain restriction.\n",
    "\n"
   ]
  },
  {
   "cell_type": "markdown",
   "id": "suburban-operations",
   "metadata": {},
   "source": [
    "## NaN Values\n",
    "\n",
    "---\n",
    "\n",
    "Later in this Notebook I will Target encode the majority of features besides Manufacturer. This will deal with the NaN values on it's own by encoding them as if they are they're own domain. \n",
    "\n",
    "I let this happen because if I were to just remove them then out dataset actually shrinks to just above 100k entries.\n",
    "\n",
    "**LOOK INTO METHODS OF IMPUTATION**\n",
    "\n"
   ]
  },
  {
   "cell_type": "code",
   "execution_count": 12,
   "id": "disciplinary-store",
   "metadata": {},
   "outputs": [
    {
     "data": {
      "text/plain": [
       "195121"
      ]
     },
     "execution_count": 12,
     "metadata": {},
     "output_type": "execute_result"
    }
   ],
   "source": [
    "# TALK ABOUT WHY THIS INCREASES R2 SCORE BY 7% \n",
    "\n",
    "df.dropna(subset = [\"odometer\", \"cylinders\"], inplace=True)\n",
    "\n",
    "df.fillna(\"0\", inplace=True)\n",
    "\n",
    "len(df.index)"
   ]
  },
  {
   "cell_type": "markdown",
   "id": "stuffed-providence",
   "metadata": {
    "tags": []
   },
   "source": [
    "<br />\n",
    "\n",
    "## 3. Feature Engineering\n",
    "\n",
    "---\n",
    "\n",
    "We have 11 categorical features that need to be represented numerically. \n",
    "\n",
    "Target Encoding for everything but Manufacturer\n",
    "\n",
    "One-Hot Encoding for Manufacturer\n",
    "\n",
    "Pipeline each one of these\n",
    "\n",
    "I CANNOT MAKE GUESSES. MAKE HYPOTHESIS THEN PROVE USING DATA.\n",
    "\n",
    "NOTE: Check correlation between price / year / and transmission (manual / auto) using bar graph\n"
   ]
  },
  {
   "cell_type": "code",
   "execution_count": 6,
   "id": "designed-afternoon",
   "metadata": {},
   "outputs": [],
   "source": [
    "x_1 = df[['year', 'transmission', 'price', 'fuel', 'title_status', 'type', 'drive', 'manufacturer']]\n",
    "x_sample_1 = x_1.dropna().sample(5000)\n",
    "\n",
    "filtered_year = x_sample_1[x_sample_1['year'] > 2010] \n",
    "filtered_year = filtered_year[filtered_year['year'] < 2020] \n",
    "filtered_year = filtered_year[filtered_year['price'] < 60000] \n",
    "\n",
    "type_data = filtered_year[filtered_year['year'] < 2013] "
   ]
  },
  {
   "cell_type": "code",
   "execution_count": 5,
   "id": "loved-venezuela",
   "metadata": {},
   "outputs": [
    {
     "data": {
      "text/plain": [
       "<AxesSubplot:>"
      ]
     },
     "execution_count": 5,
     "metadata": {},
     "output_type": "execute_result"
    },
    {
     "data": {
      "image/png": "[encoded data removed]",
      "text/plain": [
       "<Figure size 432x288 with 2 Axes>"
      ]
     },
     "metadata": {
      "needs_background": "light"
     },
     "output_type": "display_data"
    }
   ],
   "source": [
    "df\n",
    "x_2 = df[['year', 'price', 'odometer']]\n",
    "# calculate correlation matrix\n",
    "corr = x_2.corr()# plot the heatmap\n",
    "sb.heatmap(corr, xticklabels=corr.columns, yticklabels=corr.columns, annot=True, cmap=sb.diverging_palette(220, 20, as_cmap=True))"
   ]
  },
  {
   "cell_type": "code",
   "execution_count": 6,
   "id": "positive-stylus",
   "metadata": {},
   "outputs": [],
   "source": [
    "Y = df['price']\n",
    "\n",
    "df.drop('price', inplace=True, axis=1)"
   ]
  },
  {
   "cell_type": "code",
   "execution_count": 7,
   "id": "mexican-quantity",
   "metadata": {},
   "outputs": [
    {
     "name": "stderr",
     "output_type": "stream",
     "text": [
      "/usr/local/lib/python3.9/site-packages/category_encoders/utils.py:21: FutureWarning: is_categorical is deprecated and will be removed in a future version.  Use is_categorical_dtype instead\n",
      "  elif pd.api.types.is_categorical(cols):\n"
     ]
    },
    {
     "data": {
      "text/html": [
       "<div>\n",
       "<style scoped>\n",
       "    .dataframe tbody tr th:only-of-type {\n",
       "        vertical-align: middle;\n",
       "    }\n",
       "\n",
       "    .dataframe tbody tr th {\n",
       "        vertical-align: top;\n",
       "    }\n",
       "\n",
       "    .dataframe thead th {\n",
       "        text-align: right;\n",
       "    }\n",
       "</style>\n",
       "<table border=\"1\" class=\"dataframe\">\n",
       "  <thead>\n",
       "    <tr style=\"text-align: right;\">\n",
       "      <th></th>\n",
       "      <th>year</th>\n",
       "      <th>condition</th>\n",
       "      <th>cylinders</th>\n",
       "      <th>fuel</th>\n",
       "      <th>odometer</th>\n",
       "      <th>title_status</th>\n",
       "      <th>transmission</th>\n",
       "      <th>drive</th>\n",
       "      <th>size</th>\n",
       "      <th>type</th>\n",
       "      <th>...</th>\n",
       "      <th>pontiac</th>\n",
       "      <th>porsche</th>\n",
       "      <th>ram</th>\n",
       "      <th>rover</th>\n",
       "      <th>saturn</th>\n",
       "      <th>subaru</th>\n",
       "      <th>tesla</th>\n",
       "      <th>toyota</th>\n",
       "      <th>volkswagen</th>\n",
       "      <th>volvo</th>\n",
       "    </tr>\n",
       "  </thead>\n",
       "  <tbody>\n",
       "    <tr>\n",
       "      <th>27</th>\n",
       "      <td>2014.0</td>\n",
       "      <td>19118.188276</td>\n",
       "      <td>24680.853104</td>\n",
       "      <td>16439.126532</td>\n",
       "      <td>57923.0</td>\n",
       "      <td>18036.783259</td>\n",
       "      <td>29745.373317</td>\n",
       "      <td>18578.572967</td>\n",
       "      <td>19893.045241</td>\n",
       "      <td>27623.847865</td>\n",
       "      <td>...</td>\n",
       "      <td>0</td>\n",
       "      <td>0</td>\n",
       "      <td>0</td>\n",
       "      <td>0</td>\n",
       "      <td>0</td>\n",
       "      <td>0</td>\n",
       "      <td>0</td>\n",
       "      <td>0</td>\n",
       "      <td>0</td>\n",
       "      <td>0</td>\n",
       "    </tr>\n",
       "    <tr>\n",
       "      <th>28</th>\n",
       "      <td>2010.0</td>\n",
       "      <td>19118.188276</td>\n",
       "      <td>24680.853104</td>\n",
       "      <td>16439.126532</td>\n",
       "      <td>71229.0</td>\n",
       "      <td>18036.783259</td>\n",
       "      <td>29745.373317</td>\n",
       "      <td>18578.572967</td>\n",
       "      <td>19893.045241</td>\n",
       "      <td>27623.847865</td>\n",
       "      <td>...</td>\n",
       "      <td>0</td>\n",
       "      <td>0</td>\n",
       "      <td>0</td>\n",
       "      <td>0</td>\n",
       "      <td>0</td>\n",
       "      <td>0</td>\n",
       "      <td>0</td>\n",
       "      <td>0</td>\n",
       "      <td>0</td>\n",
       "      <td>0</td>\n",
       "    </tr>\n",
       "    <tr>\n",
       "      <th>30</th>\n",
       "      <td>2017.0</td>\n",
       "      <td>19118.188276</td>\n",
       "      <td>24680.853104</td>\n",
       "      <td>16439.126532</td>\n",
       "      <td>41124.0</td>\n",
       "      <td>18036.783259</td>\n",
       "      <td>29745.373317</td>\n",
       "      <td>18578.572967</td>\n",
       "      <td>19893.045241</td>\n",
       "      <td>27623.847865</td>\n",
       "      <td>...</td>\n",
       "      <td>0</td>\n",
       "      <td>0</td>\n",
       "      <td>0</td>\n",
       "      <td>0</td>\n",
       "      <td>0</td>\n",
       "      <td>0</td>\n",
       "      <td>0</td>\n",
       "      <td>1</td>\n",
       "      <td>0</td>\n",
       "      <td>0</td>\n",
       "    </tr>\n",
       "    <tr>\n",
       "      <th>31</th>\n",
       "      <td>2013.0</td>\n",
       "      <td>14891.294846</td>\n",
       "      <td>18524.685354</td>\n",
       "      <td>16439.126532</td>\n",
       "      <td>128000.0</td>\n",
       "      <td>18036.783259</td>\n",
       "      <td>16325.936820</td>\n",
       "      <td>20367.152743</td>\n",
       "      <td>17395.888563</td>\n",
       "      <td>26280.056170</td>\n",
       "      <td>...</td>\n",
       "      <td>0</td>\n",
       "      <td>0</td>\n",
       "      <td>0</td>\n",
       "      <td>0</td>\n",
       "      <td>0</td>\n",
       "      <td>0</td>\n",
       "      <td>0</td>\n",
       "      <td>0</td>\n",
       "      <td>0</td>\n",
       "      <td>0</td>\n",
       "    </tr>\n",
       "    <tr>\n",
       "      <th>32</th>\n",
       "      <td>2012.0</td>\n",
       "      <td>19118.188276</td>\n",
       "      <td>24680.853104</td>\n",
       "      <td>16439.126532</td>\n",
       "      <td>68696.0</td>\n",
       "      <td>18036.783259</td>\n",
       "      <td>29745.373317</td>\n",
       "      <td>21921.540501</td>\n",
       "      <td>19893.045241</td>\n",
       "      <td>27623.847865</td>\n",
       "      <td>...</td>\n",
       "      <td>0</td>\n",
       "      <td>0</td>\n",
       "      <td>0</td>\n",
       "      <td>0</td>\n",
       "      <td>0</td>\n",
       "      <td>0</td>\n",
       "      <td>0</td>\n",
       "      <td>0</td>\n",
       "      <td>0</td>\n",
       "      <td>0</td>\n",
       "    </tr>\n",
       "    <tr>\n",
       "      <th>...</th>\n",
       "      <td>...</td>\n",
       "      <td>...</td>\n",
       "      <td>...</td>\n",
       "      <td>...</td>\n",
       "      <td>...</td>\n",
       "      <td>...</td>\n",
       "      <td>...</td>\n",
       "      <td>...</td>\n",
       "      <td>...</td>\n",
       "      <td>...</td>\n",
       "      <td>...</td>\n",
       "      <td>...</td>\n",
       "      <td>...</td>\n",
       "      <td>...</td>\n",
       "      <td>...</td>\n",
       "      <td>...</td>\n",
       "      <td>...</td>\n",
       "      <td>...</td>\n",
       "      <td>...</td>\n",
       "      <td>...</td>\n",
       "      <td>...</td>\n",
       "    </tr>\n",
       "    <tr>\n",
       "      <th>426864</th>\n",
       "      <td>2016.0</td>\n",
       "      <td>19118.188276</td>\n",
       "      <td>18524.685354</td>\n",
       "      <td>16439.126532</td>\n",
       "      <td>53475.0</td>\n",
       "      <td>18036.783259</td>\n",
       "      <td>16325.936820</td>\n",
       "      <td>18578.572967</td>\n",
       "      <td>19893.045241</td>\n",
       "      <td>16297.461945</td>\n",
       "      <td>...</td>\n",
       "      <td>0</td>\n",
       "      <td>0</td>\n",
       "      <td>0</td>\n",
       "      <td>0</td>\n",
       "      <td>0</td>\n",
       "      <td>0</td>\n",
       "      <td>0</td>\n",
       "      <td>1</td>\n",
       "      <td>0</td>\n",
       "      <td>0</td>\n",
       "    </tr>\n",
       "    <tr>\n",
       "      <th>426866</th>\n",
       "      <td>2016.0</td>\n",
       "      <td>19118.188276</td>\n",
       "      <td>24680.853104</td>\n",
       "      <td>16439.126532</td>\n",
       "      <td>55612.0</td>\n",
       "      <td>18036.783259</td>\n",
       "      <td>16325.936820</td>\n",
       "      <td>20367.152743</td>\n",
       "      <td>19893.045241</td>\n",
       "      <td>27573.931443</td>\n",
       "      <td>...</td>\n",
       "      <td>0</td>\n",
       "      <td>0</td>\n",
       "      <td>0</td>\n",
       "      <td>0</td>\n",
       "      <td>0</td>\n",
       "      <td>0</td>\n",
       "      <td>0</td>\n",
       "      <td>0</td>\n",
       "      <td>0</td>\n",
       "      <td>0</td>\n",
       "    </tr>\n",
       "    <tr>\n",
       "      <th>426874</th>\n",
       "      <td>2018.0</td>\n",
       "      <td>19118.188276</td>\n",
       "      <td>18524.685354</td>\n",
       "      <td>16439.126532</td>\n",
       "      <td>30814.0</td>\n",
       "      <td>18036.783259</td>\n",
       "      <td>16325.936820</td>\n",
       "      <td>20367.152743</td>\n",
       "      <td>19893.045241</td>\n",
       "      <td>12101.790448</td>\n",
       "      <td>...</td>\n",
       "      <td>0</td>\n",
       "      <td>0</td>\n",
       "      <td>0</td>\n",
       "      <td>0</td>\n",
       "      <td>0</td>\n",
       "      <td>0</td>\n",
       "      <td>0</td>\n",
       "      <td>0</td>\n",
       "      <td>0</td>\n",
       "      <td>0</td>\n",
       "    </tr>\n",
       "    <tr>\n",
       "      <th>426875</th>\n",
       "      <td>2019.0</td>\n",
       "      <td>19118.188276</td>\n",
       "      <td>18524.685354</td>\n",
       "      <td>16439.126532</td>\n",
       "      <td>32226.0</td>\n",
       "      <td>18036.783259</td>\n",
       "      <td>29745.373317</td>\n",
       "      <td>10554.320597</td>\n",
       "      <td>19893.045241</td>\n",
       "      <td>12101.790448</td>\n",
       "      <td>...</td>\n",
       "      <td>0</td>\n",
       "      <td>0</td>\n",
       "      <td>0</td>\n",
       "      <td>0</td>\n",
       "      <td>0</td>\n",
       "      <td>0</td>\n",
       "      <td>0</td>\n",
       "      <td>0</td>\n",
       "      <td>0</td>\n",
       "      <td>0</td>\n",
       "    </tr>\n",
       "    <tr>\n",
       "      <th>426878</th>\n",
       "      <td>2018.0</td>\n",
       "      <td>19118.188276</td>\n",
       "      <td>18524.685354</td>\n",
       "      <td>16439.126532</td>\n",
       "      <td>30112.0</td>\n",
       "      <td>18036.783259</td>\n",
       "      <td>29745.373317</td>\n",
       "      <td>10554.320597</td>\n",
       "      <td>19893.045241</td>\n",
       "      <td>12101.790448</td>\n",
       "      <td>...</td>\n",
       "      <td>0</td>\n",
       "      <td>0</td>\n",
       "      <td>0</td>\n",
       "      <td>0</td>\n",
       "      <td>0</td>\n",
       "      <td>0</td>\n",
       "      <td>0</td>\n",
       "      <td>0</td>\n",
       "      <td>0</td>\n",
       "      <td>0</td>\n",
       "    </tr>\n",
       "  </tbody>\n",
       "</table>\n",
       "<p>195121 rows × 53 columns</p>\n",
       "</div>"
      ],
      "text/plain": [
       "          year     condition     cylinders          fuel  odometer  \\\n",
       "27      2014.0  19118.188276  24680.853104  16439.126532   57923.0   \n",
       "28      2010.0  19118.188276  24680.853104  16439.126532   71229.0   \n",
       "30      2017.0  19118.188276  24680.853104  16439.126532   41124.0   \n",
       "31      2013.0  14891.294846  18524.685354  16439.126532  128000.0   \n",
       "32      2012.0  19118.188276  24680.853104  16439.126532   68696.0   \n",
       "...        ...           ...           ...           ...       ...   \n",
       "426864  2016.0  19118.188276  18524.685354  16439.126532   53475.0   \n",
       "426866  2016.0  19118.188276  24680.853104  16439.126532   55612.0   \n",
       "426874  2018.0  19118.188276  18524.685354  16439.126532   30814.0   \n",
       "426875  2019.0  19118.188276  18524.685354  16439.126532   32226.0   \n",
       "426878  2018.0  19118.188276  18524.685354  16439.126532   30112.0   \n",
       "\n",
       "        title_status  transmission         drive          size          type  \\\n",
       "27      18036.783259  29745.373317  18578.572967  19893.045241  27623.847865   \n",
       "28      18036.783259  29745.373317  18578.572967  19893.045241  27623.847865   \n",
       "30      18036.783259  29745.373317  18578.572967  19893.045241  27623.847865   \n",
       "31      18036.783259  16325.936820  20367.152743  17395.888563  26280.056170   \n",
       "32      18036.783259  29745.373317  21921.540501  19893.045241  27623.847865   \n",
       "...              ...           ...           ...           ...           ...   \n",
       "426864  18036.783259  16325.936820  18578.572967  19893.045241  16297.461945   \n",
       "426866  18036.783259  16325.936820  20367.152743  19893.045241  27573.931443   \n",
       "426874  18036.783259  16325.936820  20367.152743  19893.045241  12101.790448   \n",
       "426875  18036.783259  29745.373317  10554.320597  19893.045241  12101.790448   \n",
       "426878  18036.783259  29745.373317  10554.320597  19893.045241  12101.790448   \n",
       "\n",
       "        ...  pontiac  porsche  ram  rover  saturn  subaru  tesla  toyota  \\\n",
       "27      ...        0        0    0      0       0       0      0       0   \n",
       "28      ...        0        0    0      0       0       0      0       0   \n",
       "30      ...        0        0    0      0       0       0      0       1   \n",
       "31      ...        0        0    0      0       0       0      0       0   \n",
       "32      ...        0        0    0      0       0       0      0       0   \n",
       "...     ...      ...      ...  ...    ...     ...     ...    ...     ...   \n",
       "426864  ...        0        0    0      0       0       0      0       1   \n",
       "426866  ...        0        0    0      0       0       0      0       0   \n",
       "426874  ...        0        0    0      0       0       0      0       0   \n",
       "426875  ...        0        0    0      0       0       0      0       0   \n",
       "426878  ...        0        0    0      0       0       0      0       0   \n",
       "\n",
       "        volkswagen  volvo  \n",
       "27               0      0  \n",
       "28               0      0  \n",
       "30               0      0  \n",
       "31               0      0  \n",
       "32               0      0  \n",
       "...            ...    ...  \n",
       "426864           0      0  \n",
       "426866           0      0  \n",
       "426874           0      0  \n",
       "426875           0      0  \n",
       "426878           0      0  \n",
       "\n",
       "[195121 rows x 53 columns]"
      ]
     },
     "execution_count": 7,
     "metadata": {},
     "output_type": "execute_result"
    }
   ],
   "source": [
    "# ------------- Target Encoding ----------------- #\n",
    "\n",
    "# Complies Target Encoding for Features (NOT INCLUDING \"Manufacturer\")\n",
    "target_encode = ce.TargetEncoder(cols = ['transmission', 'fuel', 'title_status', 'type', 'drive', 'state', \n",
    "                                         'condition', 'size', 'cylinders', 'paint_color']).fit(df, Y)\n",
    "\n",
    "# Applies Target Endcoding and Transforms Dataframe\n",
    "df = target_encode.transform(df)\n",
    "\n",
    "\n",
    "\n",
    "# ------------- One-Hot Encoding ---------------- #\n",
    "\n",
    "# Builds One-Hot Encoding \n",
    "one_hot_encoding = pd.get_dummies(df.manufacturer)\n",
    "\n",
    "# Drops Categorical Manufactural Feature\n",
    "df.drop('manufacturer', inplace=True, axis=1)\n",
    "\n",
    "# Adds One-Hot Encoding of Manufacturers to Dataframe\n",
    "df = pd.concat([df, one_hot_encoding], axis=1)\n",
    "\n",
    "df"
   ]
  },
  {
   "cell_type": "markdown",
   "id": "formal-agency",
   "metadata": {},
   "source": [
    "\n",
    "\n",
    "\n",
    "## Normalizing the Data\n",
    "\n",
    "---"
   ]
  },
  {
   "cell_type": "markdown",
   "id": "everyday-labor",
   "metadata": {},
   "source": [
    "</br>\n",
    "\n",
    "## Regression\n",
    "\n",
    "---\n",
    "\n",
    "#### Models to Test:\n",
    "1. Logistic Regression\n",
    "2. Random Forest\n",
    "3. XGBoost\n",
    "4. K-Nearest Regressor"
   ]
  },
  {
   "cell_type": "markdown",
   "id": "placed-wilson",
   "metadata": {},
   "source": [
    "### 1. Random Forest\n",
    "\n"
   ]
  },
  {
   "cell_type": "code",
   "execution_count": null,
   "id": "thirty-revolution",
   "metadata": {},
   "outputs": [],
   "source": [
    "Y = df['price']\n",
    "\n",
    "df.drop('price', inplace=True, axis=1)"
   ]
  },
  {
   "cell_type": "code",
   "execution_count": 10,
   "id": "introductory-equality",
   "metadata": {},
   "outputs": [],
   "source": [
    "df = stats.zscore(df)\n"
   ]
  },
  {
   "cell_type": "code",
   "execution_count": 8,
   "id": "ready-toolbox",
   "metadata": {},
   "outputs": [],
   "source": [
    "# NEED TO COLLECT SOME ADDITIONAL INFORMATION FOR TESTING\n",
    "\n",
    "X_train, X_test, y_train, y_test = train_test_split(df, Y, train_size=0.999, test_size=0.001, random_state=42)\n",
    "››\n",
    "# RFR_model = RandomForestRegressor(bootstrap=True, max_features=0.75, min_samples_leaf=2, min_samples_split=6, n_estimators=100, random_state = 42)\n",
    "RFR_model = RandomForestRegressor(random_state = 1) # THIS CURRENTLY PERFORMS BEST - TEST AGAINST OTHERS THOUGH\n",
    "# RFR_model = RandomForestRegressor(bootstrap=True, max_features=0.15000000000000002, min_samples_leaf=2, min_samples_split=19, n_estimators=100)\n",
    "\n",
    "RFR_model.fit(X_train, y_train)\n",
    "\n",
    "results = RFR_model.predict(X_test)"
   ]
  },
  {
   "cell_type": "code",
   "execution_count": 9,
   "id": "regulation-individual",
   "metadata": {},
   "outputs": [
    {
     "name": "stdout",
     "output_type": "stream",
     "text": [
      "2529.1530587612447\n",
      "1314.4752849466292\n",
      "0.9615567575353761\n"
     ]
    }
   ],
   "source": [
    "# results = RFR_model.predict(X_test)\n",
    "\n",
    "test = y_test.to_numpy()\n",
    "# cleared blank cylinders and got .96! r2 WTFTFTFTF\n",
    "print(sklearn.metrics.mean_squared_error(test, results, sample_weight=None, multioutput='uniform_average', squared=False))\n",
    "print(sklearn.metrics.mean_absolute_error(test, results, sample_weight=None, multioutput='uniform_average'))\n",
    "print(sklearn.metrics.r2_score(test, results, sample_weight=None, multioutput='uniform_average'))"
   ]
  },
  {
   "cell_type": "code",
   "execution_count": 28,
   "id": "increased-removal",
   "metadata": {},
   "outputs": [
    {
     "data": {
      "text/plain": [
       "array([[ 0.4545862 ,  1.53330688,  0.69667506, ...,  0.74245584,\n",
       "         0.83019862,  1.5703616 ],\n",
       "       [ 0.06109884,  0.46665971,  0.69667506, ...,  0.74245584,\n",
       "         0.83019862,  1.5703616 ],\n",
       "       [ 1.04481722,  0.46665971,  0.69667506, ...,  0.74245584,\n",
       "         0.83019862,  1.5703616 ],\n",
       "       ...,\n",
       "       [ 0.84807355,  0.64684109,  0.69667506, ...,  0.4314488 ,\n",
       "         0.83019862, -0.94216134],\n",
       "       [ 0.94644539, -0.8623742 ,  0.69667506, ..., -1.60086041,\n",
       "         0.83019862, -0.94216134],\n",
       "       [ 0.84807355,  0.64684109,  0.69667506, ..., -1.60086041,\n",
       "         0.83019862, -0.94216134]])"
      ]
     },
     "execution_count": 28,
     "metadata": {},
     "output_type": "execute_result"
    }
   ],
   "source": [
    "df"
   ]
  },
  {
   "cell_type": "code",
   "execution_count": 11,
   "id": "northern-suite",
   "metadata": {},
   "outputs": [
    {
     "data": {
      "text/plain": [
       "<AxesSubplot:>"
      ]
     },
     "execution_count": 11,
     "metadata": {},
     "output_type": "execute_result"
    },
    {
     "data": {
      "image/png": "[encoded data removed]",
      "text/plain": [
       "<Figure size 720x720 with 1 Axes>"
      ]
     },
     "metadata": {
      "needs_background": "light"
     },
     "output_type": "display_data"
    }
   ],
   "source": [
    "feat_importances = pd.Series(RFR_model.feature_importances_, index=X_train.columns)\n",
    "feat_importances.nlargest(25).plot(kind='barh',figsize=(10,10))"
   ]
  },
  {
   "cell_type": "code",
   "execution_count": 13,
   "id": "violent-plasma",
   "metadata": {},
   "outputs": [
    {
     "data": {
      "text/plain": [
       "KNeighborsRegressor()"
      ]
     },
     "execution_count": 13,
     "metadata": {},
     "output_type": "execute_result"
    }
   ],
   "source": [
    "X_train, X_test, y_train, y_test = train_test_split(df, Y, train_size=0.999, test_size=0.001, random_state=42)\n",
    "neigh = KNeighborsRegressor(n_neighbors=5)\n",
    "neigh.fit(X_train, y_train)"
   ]
  },
  {
   "cell_type": "code",
   "execution_count": 14,
   "id": "together-geography",
   "metadata": {},
   "outputs": [
    {
     "name": "stdout",
     "output_type": "stream",
     "text": [
      "4503.293606008585\n",
      "2837.3315068493152\n",
      "0.8574439787794496\n"
     ]
    }
   ],
   "source": [
    "results = neigh.predict(X_test)\n",
    "test = y_test.to_numpy()\n",
    "\n",
    "print(sklearn.metrics.mean_squared_error(test, results, sample_weight=None, multioutput='uniform_average', squared=False))\n",
    "print(sklearn.metrics.mean_absolute_error(test, results, sample_weight=None, multioutput='uniform_average'))\n",
    "print(sklearn.metrics.r2_score(test, results, sample_weight=None, multioutput='uniform_average'))"
   ]
  },
  {
   "cell_type": "code",
   "execution_count": 18,
   "id": "julian-microwave",
   "metadata": {},
   "outputs": [
    {
     "data": {
      "text/plain": [
       "array([ 4348. ,  6199.4,  7560. , 22728. , 38590. ,  4130. , 32500. ,\n",
       "       12176.8, 18876.8,  5728. ,  5259. , 10779. , 34495. ,  8259. ,\n",
       "        4959.8, 19674.6,  9449. , 31052. , 10755.4,  8419.8,  7596.8,\n",
       "        5015.2, 14995. , 35990. , 39590. , 41002.4,  4720. , 11736. ,\n",
       "       10711. ,  8797. ,  2773.2, 11413.8,  9518. ,  5780. ,  5995. ,\n",
       "        5064.2,  6938. , 25990. ,  4678.8,  2190. ,  5730. , 16855.6,\n",
       "        1475. , 10997.4, 17782.6, 11379.8,  3130. , 26199. , 16376.2,\n",
       "       38710. , 31458. ,  8400. ,  5288. ,  9035. , 17089.4,  9677.2,\n",
       "       39590. ,  7096.8,  2600. , 12159. , 34590. ,  8106.8,  3920. ,\n",
       "       10974.8,  5854.6, 53990. , 59985.6, 14152.4,  9397.8,  8700. ,\n",
       "       40958. , 15496. , 10819. , 18866. ,  7762. ,  5350. ,  5909. ,\n",
       "        3037.6,  6969.6, 18599.2,  3450. , 24590. ,  8988. , 29990. ,\n",
       "        7517. , 24798.8, 26659. ,  3160. , 30166.8, 21331. , 26296. ,\n",
       "        6634. , 44590. ,  6860. , 21990. ,  8490. , 16400. ,  3540. ,\n",
       "       35590. , 16187.8, 34990. , 29990. , 18059.6,  4329. ,  6509.6,\n",
       "        5758. ,  9196.8, 10757. , 33795. , 27990. ,  8478.8, 19536.8,\n",
       "        8748.8, 28590. ,  7430. , 17500. ,  6975. ,  5297. , 32798.4,\n",
       "       20547. , 44590. , 32574.4,  1749.2, 13999.8, 28167.8,  3449. ,\n",
       "       14078. , 49339.6, 10239. , 24990. ,  6236.6, 24957.8, 27990. ,\n",
       "       26357. , 64990. , 43077. ,  3739. ,  5898. ,  8178. , 12799.2,\n",
       "       23896. , 38590. , 27990. ,  7140.2,  7668.8,  8570. , 21239.6,\n",
       "       24436.6, 12799.8,  4400. ,  1995. , 13490. ,  5494. ,  8478.8,\n",
       "       18496.8,  5757. ,  5390. , 29990. ,  9398.6, 56262.2,  7099.6,\n",
       "       17052.8, 20990. , 16192. ,  2690. ,  4599. , 29194.2])"
      ]
     },
     "execution_count": 18,
     "metadata": {},
     "output_type": "execute_result"
    }
   ],
   "source": [
    "results"
   ]
  },
  {
   "cell_type": "code",
   "execution_count": 19,
   "id": "addressed-incidence",
   "metadata": {},
   "outputs": [
    {
     "data": {
      "text/plain": [
       "array([ 5000,  3799,  7500, 22995, 38590,  3500, 32500, 12525, 18999,\n",
       "        5300,  4200, 11500, 33999,  8000,  5000, 21495,  9750, 28900,\n",
       "       10995,  7900,  7499,  4500, 14995, 35990, 39590, 39990,  4000,\n",
       "       11900, 10995,  9000,   756, 10800, 10000,  6500,  6500,  4990,\n",
       "        7500, 25990,  5000,  2500,  7500, 16999,  1000, 10995, 19000,\n",
       "       12500,  3475, 26999, 15990, 39990, 31000,  9000,  3900,  8999,\n",
       "       16999,  9899, 39590,  6400,  2200, 12950, 34590,  8100,  5950,\n",
       "       11995,  6980, 53990, 61500, 13995,  9995,  7900, 39871, 14900,\n",
       "       10200, 19995,  7996,  4500,  6500,  5000,  8500, 17900,  1000,\n",
       "       24590,  8995, 29990,  9995, 24995, 26500,  2900, 29900, 20789,\n",
       "       22000,  6998, 44590,  6995, 23990,  8475, 15995,  2000, 35590,\n",
       "       16990, 34990, 29990, 21999,  3900,  7500,  5500,  8999, 10950,\n",
       "       34088, 27990,  7900, 18980,  8495, 28590,  7950, 17500,  6975,\n",
       "        5500, 32999, 18999, 44590, 33991,   699, 13999, 28150,  3950,\n",
       "       12495, 50000, 10495, 24990,  5799, 25000, 27990, 26000, 64990,\n",
       "       43795,  3595,  6500,  9000, 12999, 23995, 38590, 27990,  4688,\n",
       "        7000,  8500, 22903, 23395, 11975,  2100,  1995, 13488,  5300,\n",
       "        7900, 17995,  6495,  6250, 29990,  8450, 54000,  7900, 18288,\n",
       "       20990, 15998,  2500,  3988, 28995])"
      ]
     },
     "execution_count": 19,
     "metadata": {},
     "output_type": "execute_result"
    }
   ],
   "source": [
    "test"
   ]
  },
  {
   "cell_type": "code",
   "execution_count": 33,
   "id": "stuffed-apache",
   "metadata": {},
   "outputs": [
    {
     "data": {
      "text/plain": [
       "array([[ 0.4545862 ,  0.69667506,  1.11884899, ..., -0.30414142,\n",
       "        -0.14309252, -0.07951549],\n",
       "       [ 0.06109884,  0.69667506,  1.11884899, ..., -0.30414142,\n",
       "        -0.14309252, -0.07951549],\n",
       "       [ 1.04481722,  0.69667506,  1.11884899, ..., -0.30414142,\n",
       "        -0.14309252, -0.07951549],\n",
       "       ...,\n",
       "       [ 0.84807355,  0.69667506,  0.24887696, ..., -0.30414142,\n",
       "        -0.14309252, -0.07951549],\n",
       "       [ 0.94644539,  0.69667506,  0.24887696, ..., -0.30414142,\n",
       "        -0.14309252, -0.07951549],\n",
       "       [ 0.84807355,  0.69667506,  0.24887696, ..., -0.30414142,\n",
       "        -0.14309252, -0.07951549]])"
      ]
     },
     "execution_count": 33,
     "metadata": {},
     "output_type": "execute_result"
    }
   ],
   "source": [
    "df"
   ]
  },
  {
   "cell_type": "code",
   "execution_count": null,
   "id": "major-patch",
   "metadata": {},
   "outputs": [],
   "source": [
    "X_train, X_test, y_train, y_test = train_test_split(df, Y, train_size=0.999, test_size=0.001, random_state=42)\n",
    "model = sklearn.linear_model.LogisticRegression()\n",
    "model.fit(X_train, y_train)\n",
    "results = neigh.predict(X_test)\n",
    "test = y_test.to_numpy()\n",
    "\n",
    "print(sklearn.metrics.mean_squared_error(test, results, sample_weight=None, multioutput='uniform_average', squared=False))\n",
    "print(sklearn.metrics.mean_absolute_error(test, results, sample_weight=None, multioutput='uniform_average'))\n",
    "print(sklearn.metrics.r2_score(test, results, sample_weight=None, multioutput='uniform_average'))"
   ]
  },
  {
   "cell_type": "code",
   "execution_count": null,
   "id": "suffering-montgomery",
   "metadata": {},
   "outputs": [],
   "source": [
    "# Create function for loss"
   ]
  },
  {
   "cell_type": "code",
   "execution_count": null,
   "id": "legendary-twins",
   "metadata": {},
   "outputs": [],
   "source": []
  }
 ],
 "metadata": {
  "kernelspec": {
   "display_name": "Python 3",
   "language": "python",
   "name": "python3"
  },
  "language_info": {
   "codemirror_mode": {
    "name": "ipython",
    "version": 3
   },
   "file_extension": ".py",
   "mimetype": "text/x-python",
   "name": "python",
   "nbconvert_exporter": "python",
   "pygments_lexer": "ipython3",
   "version": "3.9.2"
  }
 },
 "nbformat": 4,
 "nbformat_minor": 5
}
