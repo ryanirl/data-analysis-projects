{
 "cells": [
  {
   "cell_type": "code",
   "execution_count": 15,
   "id": "direct-opportunity",
   "metadata": {},
   "outputs": [],
   "source": [
    "import matplotlib.pyplot as plt\n",
    "import seaborn as sb\n",
    "import pandas as pd\n",
    "import numpy as np\n",
    "import cv2\n",
    "import os"
   ]
  },
  {
   "cell_type": "markdown",
   "id": "involved-mathematics",
   "metadata": {},
   "source": [
    "Distribution of (1 - 255) greyscale.\n"
   ]
  },
  {
   "cell_type": "code",
   "execution_count": 2,
   "id": "developing-future",
   "metadata": {},
   "outputs": [],
   "source": [
    "data_dir = \"../../data/\""
   ]
  },
  {
   "cell_type": "code",
   "execution_count": 6,
   "id": "original-overhead",
   "metadata": {},
   "outputs": [
    {
     "data": {
      "text/html": [
       "<div>\n",
       "<style scoped>\n",
       "    .dataframe tbody tr th:only-of-type {\n",
       "        vertical-align: middle;\n",
       "    }\n",
       "\n",
       "    .dataframe tbody tr th {\n",
       "        vertical-align: top;\n",
       "    }\n",
       "\n",
       "    .dataframe thead th {\n",
       "        text-align: right;\n",
       "    }\n",
       "</style>\n",
       "<table border=\"1\" class=\"dataframe\">\n",
       "  <thead>\n",
       "    <tr style=\"text-align: right;\">\n",
       "      <th></th>\n",
       "      <th>id</th>\n",
       "      <th>annotation</th>\n",
       "      <th>width</th>\n",
       "      <th>height</th>\n",
       "      <th>cell_type</th>\n",
       "      <th>plate_time</th>\n",
       "      <th>sample_date</th>\n",
       "      <th>sample_id</th>\n",
       "      <th>elapsed_timedelta</th>\n",
       "    </tr>\n",
       "  </thead>\n",
       "  <tbody>\n",
       "    <tr>\n",
       "      <th>0</th>\n",
       "      <td>0030fd0e6378</td>\n",
       "      <td>118145 6 118849 7 119553 8 120257 8 120961 9 1...</td>\n",
       "      <td>704</td>\n",
       "      <td>520</td>\n",
       "      <td>shsy5y</td>\n",
       "      <td>11h30m00s</td>\n",
       "      <td>2019-06-16</td>\n",
       "      <td>shsy5y[diff]_E10-4_Vessel-714_Ph_3</td>\n",
       "      <td>0 days 11:30:00</td>\n",
       "    </tr>\n",
       "    <tr>\n",
       "      <th>1</th>\n",
       "      <td>0030fd0e6378</td>\n",
       "      <td>189036 1 189739 3 190441 6 191144 7 191848 8 1...</td>\n",
       "      <td>704</td>\n",
       "      <td>520</td>\n",
       "      <td>shsy5y</td>\n",
       "      <td>11h30m00s</td>\n",
       "      <td>2019-06-16</td>\n",
       "      <td>shsy5y[diff]_E10-4_Vessel-714_Ph_3</td>\n",
       "      <td>0 days 11:30:00</td>\n",
       "    </tr>\n",
       "    <tr>\n",
       "      <th>2</th>\n",
       "      <td>0030fd0e6378</td>\n",
       "      <td>173567 3 174270 5 174974 5 175678 6 176382 7 1...</td>\n",
       "      <td>704</td>\n",
       "      <td>520</td>\n",
       "      <td>shsy5y</td>\n",
       "      <td>11h30m00s</td>\n",
       "      <td>2019-06-16</td>\n",
       "      <td>shsy5y[diff]_E10-4_Vessel-714_Ph_3</td>\n",
       "      <td>0 days 11:30:00</td>\n",
       "    </tr>\n",
       "    <tr>\n",
       "      <th>3</th>\n",
       "      <td>0030fd0e6378</td>\n",
       "      <td>196723 4 197427 6 198130 7 198834 8 199538 8 2...</td>\n",
       "      <td>704</td>\n",
       "      <td>520</td>\n",
       "      <td>shsy5y</td>\n",
       "      <td>11h30m00s</td>\n",
       "      <td>2019-06-16</td>\n",
       "      <td>shsy5y[diff]_E10-4_Vessel-714_Ph_3</td>\n",
       "      <td>0 days 11:30:00</td>\n",
       "    </tr>\n",
       "    <tr>\n",
       "      <th>4</th>\n",
       "      <td>0030fd0e6378</td>\n",
       "      <td>167818 3 168522 5 169225 7 169928 8 170632 9 1...</td>\n",
       "      <td>704</td>\n",
       "      <td>520</td>\n",
       "      <td>shsy5y</td>\n",
       "      <td>11h30m00s</td>\n",
       "      <td>2019-06-16</td>\n",
       "      <td>shsy5y[diff]_E10-4_Vessel-714_Ph_3</td>\n",
       "      <td>0 days 11:30:00</td>\n",
       "    </tr>\n",
       "  </tbody>\n",
       "</table>\n",
       "</div>"
      ],
      "text/plain": [
       "             id                                         annotation  width  \\\n",
       "0  0030fd0e6378  118145 6 118849 7 119553 8 120257 8 120961 9 1...    704   \n",
       "1  0030fd0e6378  189036 1 189739 3 190441 6 191144 7 191848 8 1...    704   \n",
       "2  0030fd0e6378  173567 3 174270 5 174974 5 175678 6 176382 7 1...    704   \n",
       "3  0030fd0e6378  196723 4 197427 6 198130 7 198834 8 199538 8 2...    704   \n",
       "4  0030fd0e6378  167818 3 168522 5 169225 7 169928 8 170632 9 1...    704   \n",
       "\n",
       "   height cell_type plate_time sample_date  \\\n",
       "0     520    shsy5y  11h30m00s  2019-06-16   \n",
       "1     520    shsy5y  11h30m00s  2019-06-16   \n",
       "2     520    shsy5y  11h30m00s  2019-06-16   \n",
       "3     520    shsy5y  11h30m00s  2019-06-16   \n",
       "4     520    shsy5y  11h30m00s  2019-06-16   \n",
       "\n",
       "                            sample_id elapsed_timedelta  \n",
       "0  shsy5y[diff]_E10-4_Vessel-714_Ph_3   0 days 11:30:00  \n",
       "1  shsy5y[diff]_E10-4_Vessel-714_Ph_3   0 days 11:30:00  \n",
       "2  shsy5y[diff]_E10-4_Vessel-714_Ph_3   0 days 11:30:00  \n",
       "3  shsy5y[diff]_E10-4_Vessel-714_Ph_3   0 days 11:30:00  \n",
       "4  shsy5y[diff]_E10-4_Vessel-714_Ph_3   0 days 11:30:00  "
      ]
     },
     "execution_count": 6,
     "metadata": {},
     "output_type": "execute_result"
    }
   ],
   "source": [
    "df = pd.read_csv(os.path.join(data_dir, \"train.csv\"))\n",
    "df.head()"
   ]
  },
  {
   "cell_type": "code",
   "execution_count": 12,
   "id": "decreased-university",
   "metadata": {},
   "outputs": [],
   "source": [
    "dir_list = os.listdir(os.path.join(data_dir, \"train/\"))\n",
    "\n",
    "images = []\n",
    "\n",
    "for id_dir in dir_list:\n",
    "    image_dir = os.path.join(data_dir, f\"train/{id_dir}\")\n",
    "    \n",
    "    images.append(\n",
    "        cv2.imread(image_dir, cv2.IMREAD_GRAYSCALE)\n",
    "    )\n"
   ]
  },
  {
   "cell_type": "code",
   "execution_count": 20,
   "id": "sporting-shoulder",
   "metadata": {},
   "outputs": [
    {
     "name": "stderr",
     "output_type": "stream",
     "text": [
      "/usr/local/lib/python3.9/site-packages/seaborn/distributions.py:2557: FutureWarning: `distplot` is a deprecated function and will be removed in a future version. Please adapt your code to use either `displot` (a figure-level function with similar flexibility) or `histplot` (an axes-level function for histograms).\n",
      "  warnings.warn(msg, FutureWarning)\n"
     ]
    },
    {
     "data": {
      "text/plain": [
       "<AxesSubplot:ylabel='Density'>"
      ]
     },
     "execution_count": 20,
     "metadata": {},
     "output_type": "execute_result"
    },
    {
     "data": {
      "image/png": "[encoded data removed]",
      "text/plain": [
       "<Figure size 432x288 with 1 Axes>"
      ]
     },
     "metadata": {
      "needs_background": "light"
     },
     "output_type": "display_data"
    }
   ],
   "source": [
    "sb.distplot(x = images[0 : 10])"
   ]
  },
  {
   "cell_type": "code",
   "execution_count": null,
   "id": "bridal-battlefield",
   "metadata": {},
   "outputs": [],
   "source": []
  }
 ],
 "metadata": {
  "kernelspec": {
   "display_name": "Python 3",
   "language": "python",
   "name": "python3"
  },
  "language_info": {
   "codemirror_mode": {
    "name": "ipython",
    "version": 3
   },
   "file_extension": ".py",
   "mimetype": "text/x-python",
   "name": "python",
   "nbconvert_exporter": "python",
   "pygments_lexer": "ipython3",
   "version": "3.9.6"
  }
 },
 "nbformat": 4,
 "nbformat_minor": 5
}
