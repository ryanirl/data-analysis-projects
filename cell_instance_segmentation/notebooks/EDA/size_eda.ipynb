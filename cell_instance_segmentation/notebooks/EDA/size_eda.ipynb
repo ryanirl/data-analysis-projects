{
 "cells": [
  {
   "cell_type": "code",
   "execution_count": 1,
   "id": "classical-marks",
   "metadata": {},
   "outputs": [],
   "source": [
    "%load_ext autoreload"
   ]
  },
  {
   "cell_type": "code",
   "execution_count": null,
   "id": "large-merit",
   "metadata": {},
   "outputs": [],
   "source": [
    "import matplotlib.pyplot as plt\n",
    "import seaborn as sns\n",
    "import pandas as pd\n",
    "import numpy as np\n",
    "import os\n",
    "\n",
    "%matplotlib inline "
   ]
  },
  {
   "cell_type": "code",
   "execution_count": 2,
   "id": "modern-premiere",
   "metadata": {},
   "outputs": [
    {
     "data": {
      "text/html": [
       "<div>\n",
       "<style scoped>\n",
       "    .dataframe tbody tr th:only-of-type {\n",
       "        vertical-align: middle;\n",
       "    }\n",
       "\n",
       "    .dataframe tbody tr th {\n",
       "        vertical-align: top;\n",
       "    }\n",
       "\n",
       "    .dataframe thead th {\n",
       "        text-align: right;\n",
       "    }\n",
       "</style>\n",
       "<table border=\"1\" class=\"dataframe\">\n",
       "  <thead>\n",
       "    <tr style=\"text-align: right;\">\n",
       "      <th></th>\n",
       "      <th>id</th>\n",
       "      <th>annotation</th>\n",
       "      <th>width</th>\n",
       "      <th>height</th>\n",
       "      <th>cell_type</th>\n",
       "      <th>plate_time</th>\n",
       "      <th>sample_date</th>\n",
       "      <th>sample_id</th>\n",
       "      <th>elapsed_timedelta</th>\n",
       "    </tr>\n",
       "  </thead>\n",
       "  <tbody>\n",
       "    <tr>\n",
       "      <th>0</th>\n",
       "      <td>0030fd0e6378</td>\n",
       "      <td>118145 6 118849 7 119553 8 120257 8 120961 9 1...</td>\n",
       "      <td>704</td>\n",
       "      <td>520</td>\n",
       "      <td>shsy5y</td>\n",
       "      <td>11h30m00s</td>\n",
       "      <td>2019-06-16</td>\n",
       "      <td>shsy5y[diff]_E10-4_Vessel-714_Ph_3</td>\n",
       "      <td>0 days 11:30:00</td>\n",
       "    </tr>\n",
       "    <tr>\n",
       "      <th>1</th>\n",
       "      <td>0030fd0e6378</td>\n",
       "      <td>189036 1 189739 3 190441 6 191144 7 191848 8 1...</td>\n",
       "      <td>704</td>\n",
       "      <td>520</td>\n",
       "      <td>shsy5y</td>\n",
       "      <td>11h30m00s</td>\n",
       "      <td>2019-06-16</td>\n",
       "      <td>shsy5y[diff]_E10-4_Vessel-714_Ph_3</td>\n",
       "      <td>0 days 11:30:00</td>\n",
       "    </tr>\n",
       "    <tr>\n",
       "      <th>2</th>\n",
       "      <td>0030fd0e6378</td>\n",
       "      <td>173567 3 174270 5 174974 5 175678 6 176382 7 1...</td>\n",
       "      <td>704</td>\n",
       "      <td>520</td>\n",
       "      <td>shsy5y</td>\n",
       "      <td>11h30m00s</td>\n",
       "      <td>2019-06-16</td>\n",
       "      <td>shsy5y[diff]_E10-4_Vessel-714_Ph_3</td>\n",
       "      <td>0 days 11:30:00</td>\n",
       "    </tr>\n",
       "    <tr>\n",
       "      <th>3</th>\n",
       "      <td>0030fd0e6378</td>\n",
       "      <td>196723 4 197427 6 198130 7 198834 8 199538 8 2...</td>\n",
       "      <td>704</td>\n",
       "      <td>520</td>\n",
       "      <td>shsy5y</td>\n",
       "      <td>11h30m00s</td>\n",
       "      <td>2019-06-16</td>\n",
       "      <td>shsy5y[diff]_E10-4_Vessel-714_Ph_3</td>\n",
       "      <td>0 days 11:30:00</td>\n",
       "    </tr>\n",
       "    <tr>\n",
       "      <th>4</th>\n",
       "      <td>0030fd0e6378</td>\n",
       "      <td>167818 3 168522 5 169225 7 169928 8 170632 9 1...</td>\n",
       "      <td>704</td>\n",
       "      <td>520</td>\n",
       "      <td>shsy5y</td>\n",
       "      <td>11h30m00s</td>\n",
       "      <td>2019-06-16</td>\n",
       "      <td>shsy5y[diff]_E10-4_Vessel-714_Ph_3</td>\n",
       "      <td>0 days 11:30:00</td>\n",
       "    </tr>\n",
       "  </tbody>\n",
       "</table>\n",
       "</div>"
      ],
      "text/plain": [
       "             id                                         annotation  width  \\\n",
       "0  0030fd0e6378  118145 6 118849 7 119553 8 120257 8 120961 9 1...    704   \n",
       "1  0030fd0e6378  189036 1 189739 3 190441 6 191144 7 191848 8 1...    704   \n",
       "2  0030fd0e6378  173567 3 174270 5 174974 5 175678 6 176382 7 1...    704   \n",
       "3  0030fd0e6378  196723 4 197427 6 198130 7 198834 8 199538 8 2...    704   \n",
       "4  0030fd0e6378  167818 3 168522 5 169225 7 169928 8 170632 9 1...    704   \n",
       "\n",
       "   height cell_type plate_time sample_date  \\\n",
       "0     520    shsy5y  11h30m00s  2019-06-16   \n",
       "1     520    shsy5y  11h30m00s  2019-06-16   \n",
       "2     520    shsy5y  11h30m00s  2019-06-16   \n",
       "3     520    shsy5y  11h30m00s  2019-06-16   \n",
       "4     520    shsy5y  11h30m00s  2019-06-16   \n",
       "\n",
       "                            sample_id elapsed_timedelta  \n",
       "0  shsy5y[diff]_E10-4_Vessel-714_Ph_3   0 days 11:30:00  \n",
       "1  shsy5y[diff]_E10-4_Vessel-714_Ph_3   0 days 11:30:00  \n",
       "2  shsy5y[diff]_E10-4_Vessel-714_Ph_3   0 days 11:30:00  \n",
       "3  shsy5y[diff]_E10-4_Vessel-714_Ph_3   0 days 11:30:00  \n",
       "4  shsy5y[diff]_E10-4_Vessel-714_Ph_3   0 days 11:30:00  "
      ]
     },
     "execution_count": 2,
     "metadata": {},
     "output_type": "execute_result"
    }
   ],
   "source": [
    "df = pd.read_csv(\"../data/train.csv\")\n",
    "df.head()"
   ]
  },
  {
   "cell_type": "code",
   "execution_count": 3,
   "id": "satisfied-ocean",
   "metadata": {},
   "outputs": [],
   "source": [
    "def rle_size(rle):\n",
    "    \"\"\"\n",
    "    Returns size of single RLE. \n",
    "\n",
    "    \"\"\"\n",
    "    \n",
    "    split  = rle.split()\n",
    "    np_rle = np.array(split, dtype = np.uint64)\n",
    "    \n",
    "    lengths = np_rle[1 :: 2]\n",
    "    \n",
    "    size = lengths.sum()\n",
    "    \n",
    "    return size\n"
   ]
  },
  {
   "cell_type": "code",
   "execution_count": 4,
   "id": "employed-restriction",
   "metadata": {},
   "outputs": [],
   "source": [
    "cell_types = [\"cort\", \"astro\", \"shsy5y\"]\n",
    "\n",
    "cort_sizes   = []\n",
    "astro_sizes  = []\n",
    "shsy5y_sizes = []\n",
    "\n",
    "cort_ids   = df[df[\"cell_type\"] == \"cort\"].id.unique()\n",
    "astro_ids  = df[df[\"cell_type\"] == \"astro\"].id.unique()\n",
    "shsy5y_ids = df[df[\"cell_type\"] == \"shsy5y\"].id.unique()\n"
   ]
  },
  {
   "cell_type": "code",
   "execution_count": 5,
   "id": "effective-savannah",
   "metadata": {},
   "outputs": [],
   "source": [
    "sizes = {\n",
    "    \"cort\"   : [],\n",
    "    \"astro\"  : [],\n",
    "    \"shsy5y\" : []\n",
    "}\n",
    "\n",
    "unique_ids = {\n",
    "    \"cort\"   : cort_ids,\n",
    "    \"astro\"  : astro_ids,\n",
    "    \"shsy5y\" : shsy5y_ids\n",
    "}\n",
    "\n",
    "for cell_type in cell_types:\n",
    "    ids = unique_ids[cell_type]\n",
    "    for ID in ids:\n",
    "        id_df          = df[df[\"id\"] == ID]\n",
    "        id_annotations = id_df[\"annotation\"].tolist()\n",
    "\n",
    "        for annotation in id_annotations:\n",
    "            sizes[cell_type].append(\n",
    "                rle_size(annotation)\n",
    "            )\n"
   ]
  },
  {
   "cell_type": "code",
   "execution_count": 6,
   "id": "marked-county",
   "metadata": {},
   "outputs": [
    {
     "data": {
      "image/png": "[encoded data removed]",
      "text/plain": [
       "<Figure size 1080x288 with 3 Axes>"
      ]
     },
     "metadata": {
      "needs_background": "light"
     },
     "output_type": "display_data"
    }
   ],
   "source": [
    "num_bins  = 100\n",
    "plt_range = [0, 4000]\n",
    "\n",
    "fig, (ax1, ax2, ax3) = plt.subplots(1, 3, figsize = (15, 4))\n",
    "\n",
    "plt.xlabel(\"sizes\")\n",
    "plt.ylabel(\"number of masks\")\n",
    "\n",
    "ax1.set_title(\"Sizes of 'cort' masks\")\n",
    "ax1.hist(sizes[\"cort\"], 100, range = plt_range)\n",
    "\n",
    "ax2.set_title(\"Sizes of 'astro' masks\")\n",
    "ax2.hist(sizes[\"astro\"], 100, range = plt_range)\n",
    "\n",
    "ax3.set_title(\"Sizes of 'shsy5y' masks\")\n",
    "ax3.hist(sizes[\"shsy5y\"], 100, range = plt_range)\n",
    "\n",
    "plt.show()"
   ]
  },
  {
   "cell_type": "code",
   "execution_count": 7,
   "id": "brilliant-court",
   "metadata": {},
   "outputs": [
    {
     "name": "stdout",
     "output_type": "stream",
     "text": [
      "cort\n",
      "     count        mean         std   min    25%    50%    75%     max\n",
      "0  10777.0  240.164517  139.166373  33.0  151.0  208.0  288.0  2054.0\n",
      "\n",
      "astro\n",
      "     count       mean         std   min    25%    50%     75%      max\n",
      "0  10522.0  905.80574  855.187699  37.0  407.0  665.0  1098.0  13327.0\n",
      "\n",
      "shsy5y\n",
      "     count        mean        std   min    25%    50%    75%     max\n",
      "0  52286.0  224.496328  133.93878  30.0  133.0  193.0  280.0  2254.0\n"
     ]
    }
   ],
   "source": [
    "print(\"cort\")\n",
    "print(pd.DataFrame(sizes[\"cort\"]).describe().transpose())\n",
    "print()\n",
    "\n",
    "print(\"astro\")\n",
    "print(pd.DataFrame(sizes[\"astro\"]).describe().transpose())\n",
    "print()\n",
    "\n",
    "print(\"shsy5y\")\n",
    "print(pd.DataFrame(sizes[\"shsy5y\"]).describe().transpose())"
   ]
  },
  {
   "cell_type": "code",
   "execution_count": 8,
   "id": "surgical-tanzania",
   "metadata": {},
   "outputs": [
    {
     "name": "stdout",
     "output_type": "stream",
     "text": [
      "cort\n",
      "lo : 95.0 | hi : 497.0\n",
      "\n",
      "astro\n",
      "lo : 185.0 | hi : 2380.0\n",
      "\n",
      "shsy5y\n",
      "lo : 77.0 | hi : 478.0\n"
     ]
    }
   ],
   "source": [
    "cort_size_df   = pd.DataFrame(sizes[\"cort\"])\n",
    "astro_size_df  = pd.DataFrame(sizes[\"astro\"])\n",
    "shsy5y_size_df = pd.DataFrame(sizes[\"shsy5y\"])\n",
    "\n",
    "print(\"cort\")\n",
    "l = cort_size_df.quantile(0.05)[0]\n",
    "r = cort_size_df.quantile(0.95)[0]\n",
    "print(f\"lo : {l} | hi : {r}\")\n",
    "print()\n",
    "\n",
    "print(\"astro\")\n",
    "l = astro_size_df.quantile(0.05)[0]\n",
    "r = astro_size_df.quantile(0.95)[0]\n",
    "print(f\"lo : {l} | hi : {r}\")\n",
    "print()\n",
    "\n",
    "print(\"shsy5y\")\n",
    "l = shsy5y_size_df.quantile(0.05)[0]\n",
    "r = shsy5y_size_df.quantile(0.95)[0]\n",
    "print(f\"lo : {l} | hi : {r}\")\n"
   ]
  },
  {
   "cell_type": "code",
   "execution_count": null,
   "id": "aging-second",
   "metadata": {},
   "outputs": [],
   "source": []
  }
 ],
 "metadata": {
  "kernelspec": {
   "display_name": "Python 3 (ipykernel)",
   "language": "python",
   "name": "python3"
  },
  "language_info": {
   "codemirror_mode": {
    "name": "ipython",
    "version": 3
   },
   "file_extension": ".py",
   "mimetype": "text/x-python",
   "name": "python",
   "nbconvert_exporter": "python",
   "pygments_lexer": "ipython3",
   "version": "3.8.10"
  }
 },
 "nbformat": 4,
 "nbformat_minor": 5
}
